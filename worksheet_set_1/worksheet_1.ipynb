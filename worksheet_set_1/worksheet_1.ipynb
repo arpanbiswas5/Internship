{
 "cells": [
  {
   "cell_type": "markdown",
   "id": "aa95ddf3",
   "metadata": {},
   "source": [
    "# PYTHON WORKSHEET 1"
   ]
  },
  {
   "cell_type": "markdown",
   "id": "c65b30b3",
   "metadata": {},
   "source": [
    "11. FACTORIAL OF A NUMBER"
   ]
  },
  {
   "cell_type": "code",
   "execution_count": 16,
   "id": "3465c11f",
   "metadata": {},
   "outputs": [
    {
     "name": "stdout",
     "output_type": "stream",
     "text": [
      "Enter a number: 10\n",
      "The factorial of 10 is 3628800\n"
     ]
    }
   ],
   "source": [
    "number=int(input('Enter a number: '))\n",
    "factorial=1\n",
    "if number<0:\n",
    "    print('sorry no factorial for negative numbers')\n",
    "elif number==0:\n",
    "    print('factorial of 0 is 1.')\n",
    "else:\n",
    "   for i in range(1,number + 1):\n",
    "       factorial = factorial*i\n",
    "   print(\"The factorial of\",number,\"is\",factorial)"
   ]
  },
  {
   "cell_type": "markdown",
   "id": "0bd8f131",
   "metadata": {},
   "source": [
    "12. WHETHER THE NUMBER IS PRIME OR COMPOSITE"
   ]
  },
  {
   "cell_type": "code",
   "execution_count": 18,
   "id": "189da1ab",
   "metadata": {},
   "outputs": [
    {
     "name": "stdout",
     "output_type": "stream",
     "text": [
      "Enter any number : 7\n",
      "7 is a PRIME number\n"
     ]
    }
   ],
   "source": [
    "num = int(input(\"Enter any number : \"))\n",
    "if num > 1:\n",
    "    for i in range(2, num):\n",
    "        if (num % i) == 0:\n",
    "            print(num, \"is NOT a prime number\")\n",
    "            break\n",
    "    else:\n",
    "        print(num, \"is a PRIME number\")\n",
    "elif num == 0 or 1:\n",
    "    print(num, \"is a neither prime NOR composite number\")\n",
    "else:\n",
    "    print(num, \"is NOT a prime number it is a COMPOSITE number\")"
   ]
  },
  {
   "cell_type": "markdown",
   "id": "f9924143",
   "metadata": {},
   "source": [
    "13. WHETHER A GIVEN STRING IS PALINDROME OR NOT"
   ]
  },
  {
   "cell_type": "code",
   "execution_count": 21,
   "id": "d0ca1508",
   "metadata": {},
   "outputs": [
    {
     "name": "stdout",
     "output_type": "stream",
     "text": [
      "Enter string:MALAYALAM\n",
      "The string is a palindrome\n"
     ]
    }
   ],
   "source": [
    "string=input(\"Enter string:\")\n",
    "if(string==string[::-1]):\n",
    "      print(\"The string is a palindrome\")\n",
    "else:\n",
    "      print(\"The string isn't a palindrome\")"
   ]
  },
  {
   "cell_type": "markdown",
   "id": "0d31934e",
   "metadata": {},
   "source": [
    "14. TO GET THE THIRD SIDE OF RIGHT-ANGLED TRIANGLE WITH TWO GIVEN SIDES"
   ]
  },
  {
   "cell_type": "code",
   "execution_count": 22,
   "id": "6a7a8c98",
   "metadata": {},
   "outputs": [
    {
     "name": "stdout",
     "output_type": "stream",
     "text": [
      "Input lengths of shorter triangle sides:\n",
      "a: 2\n",
      "b: 3\n",
      "The length of the hypotenuse is: 3.605551275463989\n"
     ]
    }
   ],
   "source": [
    "from math import sqrt\n",
    "print(\"Input lengths of shorter triangle sides:\")\n",
    "a = float(input(\"a: \"))\n",
    "b = float(input(\"b: \"))\n",
    "c = sqrt(a**2 + b**2)\n",
    "print(\"The length of the hypotenuse is:\", c )"
   ]
  },
  {
   "cell_type": "markdown",
   "id": "2ad7be24",
   "metadata": {},
   "source": [
    "15. The frequency of each of the characters present in a given string"
   ]
  },
  {
   "cell_type": "code",
   "execution_count": 25,
   "id": "cbdea2e7",
   "metadata": {},
   "outputs": [
    {
     "name": "stdout",
     "output_type": "stream",
     "text": [
      "Given String:  data science rocks\n",
      "Frequency of each character :\n",
      "  {'e': 2, 'o': 1, 'n': 1, 'k': 1, 'a': 2, 'r': 1, 'i': 1, ' ': 2, 'c': 3, 's': 2, 't': 1, 'd': 1}\n"
     ]
    }
   ],
   "source": [
    "string = \"data science rocks\"\n",
    "print(\"Given String: \",string)\n",
    "res = {}\n",
    "res={n: string.count(n) for n in set(string)}\n",
    "print(\"Frequency of each character :\\n \",res)"
   ]
  },
  {
   "cell_type": "code",
   "execution_count": null,
   "id": "a41677b9",
   "metadata": {},
   "outputs": [],
   "source": []
  },
  {
   "cell_type": "code",
   "execution_count": null,
   "id": "63d39f32",
   "metadata": {},
   "outputs": [],
   "source": []
  },
  {
   "cell_type": "code",
   "execution_count": null,
   "id": "7b567b29",
   "metadata": {},
   "outputs": [],
   "source": []
  },
  {
   "cell_type": "code",
   "execution_count": null,
   "id": "80394dd5",
   "metadata": {},
   "outputs": [],
   "source": []
  }
 ],
 "metadata": {
  "kernelspec": {
   "display_name": "Python 3",
   "language": "python",
   "name": "python3"
  },
  "language_info": {
   "codemirror_mode": {
    "name": "ipython",
    "version": 3
   },
   "file_extension": ".py",
   "mimetype": "text/x-python",
   "name": "python",
   "nbconvert_exporter": "python",
   "pygments_lexer": "ipython3",
   "version": "3.8.8"
  }
 },
 "nbformat": 4,
 "nbformat_minor": 5
}
