{
 "cells": [
  {
   "cell_type": "code",
   "execution_count": 113,
   "id": "dc349965",
   "metadata": {},
   "outputs": [],
   "source": [
    "#importing the libraries \n",
    "import pandas as pd\n",
    "import numpy as np\n",
    "import seaborn as sns\n",
    "import matplotlib.pyplot as plt\n",
    "import sklearn\n",
    "from sklearn.linear_model import LinearRegression\n",
    "from sklearn.metrics import mean_squared_error, mean_absolute_error\n",
    "from sklearn.model_selection import train_test_split\n",
    "from sklearn.metrics import roc_auc_score\n",
    "import sklearn.metrics as metrics\n",
    "from sklearn.metrics import confusion_matrix,classification_report\n",
    "from scipy.stats import zscore\n",
    "import warnings\n",
    "warnings.filterwarnings('ignore')"
   ]
  },
  {
   "cell_type": "code",
   "execution_count": 114,
   "id": "f13c3ac6",
   "metadata": {},
   "outputs": [
    {
     "data": {
      "text/html": [
       "<div>\n",
       "<style scoped>\n",
       "    .dataframe tbody tr th:only-of-type {\n",
       "        vertical-align: middle;\n",
       "    }\n",
       "\n",
       "    .dataframe tbody tr th {\n",
       "        vertical-align: top;\n",
       "    }\n",
       "\n",
       "    .dataframe thead th {\n",
       "        text-align: right;\n",
       "    }\n",
       "</style>\n",
       "<table border=\"1\" class=\"dataframe\">\n",
       "  <thead>\n",
       "    <tr style=\"text-align: right;\">\n",
       "      <th></th>\n",
       "      <th>Unnamed: 0</th>\n",
       "      <th>Date</th>\n",
       "      <th>Airline</th>\n",
       "      <th>Source</th>\n",
       "      <th>Destination</th>\n",
       "      <th>Dep_time</th>\n",
       "      <th>Arr_time</th>\n",
       "      <th>Durtion</th>\n",
       "      <th>Route</th>\n",
       "      <th>stop</th>\n",
       "      <th>price</th>\n",
       "    </tr>\n",
       "  </thead>\n",
       "  <tbody>\n",
       "    <tr>\n",
       "      <th>0</th>\n",
       "      <td>0</td>\n",
       "      <td>Feb 03</td>\n",
       "      <td>Vistara</td>\n",
       "      <td>Mumbai</td>\n",
       "      <td>Kolkata</td>\n",
       "      <td>12:25</td>\n",
       "      <td>16:50</td>\n",
       "      <td>04h 25m</td>\n",
       "      <td>BOM---&gt;CCU</td>\n",
       "      <td>1-stop</td>\n",
       "      <td>7,518</td>\n",
       "    </tr>\n",
       "    <tr>\n",
       "      <th>1</th>\n",
       "      <td>1</td>\n",
       "      <td>Feb 03</td>\n",
       "      <td>GO FIRST</td>\n",
       "      <td>Mumbai</td>\n",
       "      <td>Kolkata</td>\n",
       "      <td>05:00</td>\n",
       "      <td>07:30</td>\n",
       "      <td>02h 30m</td>\n",
       "      <td>BOM---&gt;CCU</td>\n",
       "      <td>non-stop</td>\n",
       "      <td>7,412</td>\n",
       "    </tr>\n",
       "    <tr>\n",
       "      <th>2</th>\n",
       "      <td>2</td>\n",
       "      <td>Feb 03</td>\n",
       "      <td>GO FIRST</td>\n",
       "      <td>Mumbai</td>\n",
       "      <td>Kolkata</td>\n",
       "      <td>21:00</td>\n",
       "      <td>23:35</td>\n",
       "      <td>02h 35m</td>\n",
       "      <td>BOM---&gt;CCU</td>\n",
       "      <td>non-stop</td>\n",
       "      <td>NaN</td>\n",
       "    </tr>\n",
       "    <tr>\n",
       "      <th>3</th>\n",
       "      <td>3</td>\n",
       "      <td>Feb 03</td>\n",
       "      <td>Indigo</td>\n",
       "      <td>Mumbai</td>\n",
       "      <td>Kolkata</td>\n",
       "      <td>21:40</td>\n",
       "      <td>00:10</td>\n",
       "      <td>02h 30m</td>\n",
       "      <td>BOM---&gt;CCU</td>\n",
       "      <td>non-stop</td>\n",
       "      <td>7,412</td>\n",
       "    </tr>\n",
       "    <tr>\n",
       "      <th>4</th>\n",
       "      <td>4</td>\n",
       "      <td>Feb 03</td>\n",
       "      <td>Indigo</td>\n",
       "      <td>Mumbai</td>\n",
       "      <td>Kolkata</td>\n",
       "      <td>23:00</td>\n",
       "      <td>01:30</td>\n",
       "      <td>02h 30m</td>\n",
       "      <td>BOM---&gt;CCU</td>\n",
       "      <td>non-stop</td>\n",
       "      <td>NaN</td>\n",
       "    </tr>\n",
       "  </tbody>\n",
       "</table>\n",
       "</div>"
      ],
      "text/plain": [
       "   Unnamed: 0    Date   Airline  Source Destination Dep_time Arr_time  \\\n",
       "0           0  Feb 03   Vistara  Mumbai     Kolkata    12:25    16:50   \n",
       "1           1  Feb 03  GO FIRST  Mumbai     Kolkata    05:00    07:30   \n",
       "2           2  Feb 03  GO FIRST  Mumbai     Kolkata    21:00    23:35   \n",
       "3           3  Feb 03    Indigo  Mumbai     Kolkata    21:40    00:10   \n",
       "4           4  Feb 03    Indigo  Mumbai     Kolkata    23:00    01:30   \n",
       "\n",
       "   Durtion       Route      stop  price  \n",
       "0  04h 25m  BOM--->CCU    1-stop  7,518  \n",
       "1  02h 30m  BOM--->CCU  non-stop  7,412  \n",
       "2  02h 35m  BOM--->CCU  non-stop    NaN  \n",
       "3  02h 30m  BOM--->CCU  non-stop  7,412  \n",
       "4  02h 30m  BOM--->CCU  non-stop    NaN  "
      ]
     },
     "execution_count": 114,
     "metadata": {},
     "output_type": "execute_result"
    }
   ],
   "source": [
    "#loading the data set\n",
    "df= pd.read_excel('flightprice_data.xlsx')\n",
    "df.head()"
   ]
  },
  {
   "cell_type": "code",
   "execution_count": 115,
   "id": "7a71c10e",
   "metadata": {},
   "outputs": [
    {
     "name": "stdout",
     "output_type": "stream",
     "text": [
      "<class 'pandas.core.frame.DataFrame'>\n",
      "RangeIndex: 28786 entries, 0 to 28785\n",
      "Data columns (total 11 columns):\n",
      " #   Column       Non-Null Count  Dtype \n",
      "---  ------       --------------  ----- \n",
      " 0   Unnamed: 0   28786 non-null  int64 \n",
      " 1   Date         28786 non-null  object\n",
      " 2   Airline      28786 non-null  object\n",
      " 3   Source       28786 non-null  object\n",
      " 4   Destination  28786 non-null  object\n",
      " 5   Dep_time     28786 non-null  object\n",
      " 6   Arr_time     28786 non-null  object\n",
      " 7   Durtion      28786 non-null  object\n",
      " 8   Route        28786 non-null  object\n",
      " 9   stop         28786 non-null  object\n",
      " 10  price        17141 non-null  object\n",
      "dtypes: int64(1), object(10)\n",
      "memory usage: 2.4+ MB\n"
     ]
    }
   ],
   "source": [
    "df.info()"
   ]
  },
  {
   "cell_type": "code",
   "execution_count": 116,
   "id": "68661dba",
   "metadata": {},
   "outputs": [],
   "source": [
    "df=df.dropna()"
   ]
  },
  {
   "cell_type": "code",
   "execution_count": 117,
   "id": "aac92f65",
   "metadata": {},
   "outputs": [
    {
     "data": {
      "text/html": [
       "<div>\n",
       "<style scoped>\n",
       "    .dataframe tbody tr th:only-of-type {\n",
       "        vertical-align: middle;\n",
       "    }\n",
       "\n",
       "    .dataframe tbody tr th {\n",
       "        vertical-align: top;\n",
       "    }\n",
       "\n",
       "    .dataframe thead th {\n",
       "        text-align: right;\n",
       "    }\n",
       "</style>\n",
       "<table border=\"1\" class=\"dataframe\">\n",
       "  <thead>\n",
       "    <tr style=\"text-align: right;\">\n",
       "      <th></th>\n",
       "      <th>Unnamed: 0</th>\n",
       "      <th>Date</th>\n",
       "      <th>Airline</th>\n",
       "      <th>Source</th>\n",
       "      <th>Destination</th>\n",
       "      <th>Dep_time</th>\n",
       "      <th>Arr_time</th>\n",
       "      <th>Durtion</th>\n",
       "      <th>Route</th>\n",
       "      <th>stop</th>\n",
       "      <th>price</th>\n",
       "    </tr>\n",
       "  </thead>\n",
       "  <tbody>\n",
       "    <tr>\n",
       "      <th>0</th>\n",
       "      <td>0</td>\n",
       "      <td>Feb 03</td>\n",
       "      <td>Vistara</td>\n",
       "      <td>Mumbai</td>\n",
       "      <td>Kolkata</td>\n",
       "      <td>12:25</td>\n",
       "      <td>16:50</td>\n",
       "      <td>04h 25m</td>\n",
       "      <td>BOM---&gt;CCU</td>\n",
       "      <td>1-stop</td>\n",
       "      <td>7,518</td>\n",
       "    </tr>\n",
       "    <tr>\n",
       "      <th>1</th>\n",
       "      <td>1</td>\n",
       "      <td>Feb 03</td>\n",
       "      <td>GO FIRST</td>\n",
       "      <td>Mumbai</td>\n",
       "      <td>Kolkata</td>\n",
       "      <td>05:00</td>\n",
       "      <td>07:30</td>\n",
       "      <td>02h 30m</td>\n",
       "      <td>BOM---&gt;CCU</td>\n",
       "      <td>non-stop</td>\n",
       "      <td>7,412</td>\n",
       "    </tr>\n",
       "    <tr>\n",
       "      <th>3</th>\n",
       "      <td>3</td>\n",
       "      <td>Feb 03</td>\n",
       "      <td>Indigo</td>\n",
       "      <td>Mumbai</td>\n",
       "      <td>Kolkata</td>\n",
       "      <td>21:40</td>\n",
       "      <td>00:10</td>\n",
       "      <td>02h 30m</td>\n",
       "      <td>BOM---&gt;CCU</td>\n",
       "      <td>non-stop</td>\n",
       "      <td>7,412</td>\n",
       "    </tr>\n",
       "    <tr>\n",
       "      <th>5</th>\n",
       "      <td>5</td>\n",
       "      <td>Feb 03</td>\n",
       "      <td>GO FIRST</td>\n",
       "      <td>Mumbai</td>\n",
       "      <td>Kolkata</td>\n",
       "      <td>05:00</td>\n",
       "      <td>09:05</td>\n",
       "      <td>04h 05m</td>\n",
       "      <td>BOM---&gt;HYD</td>\n",
       "      <td>1-stop</td>\n",
       "      <td>7,413</td>\n",
       "    </tr>\n",
       "    <tr>\n",
       "      <th>7</th>\n",
       "      <td>7</td>\n",
       "      <td>Feb 03</td>\n",
       "      <td>GO FIRST</td>\n",
       "      <td>Mumbai</td>\n",
       "      <td>Kolkata</td>\n",
       "      <td>05:00</td>\n",
       "      <td>12:30</td>\n",
       "      <td>07h 30m</td>\n",
       "      <td>BOM---&gt;HYD</td>\n",
       "      <td>1-stop</td>\n",
       "      <td>7,413</td>\n",
       "    </tr>\n",
       "    <tr>\n",
       "      <th>...</th>\n",
       "      <td>...</td>\n",
       "      <td>...</td>\n",
       "      <td>...</td>\n",
       "      <td>...</td>\n",
       "      <td>...</td>\n",
       "      <td>...</td>\n",
       "      <td>...</td>\n",
       "      <td>...</td>\n",
       "      <td>...</td>\n",
       "      <td>...</td>\n",
       "      <td>...</td>\n",
       "    </tr>\n",
       "    <tr>\n",
       "      <th>28776</th>\n",
       "      <td>28776</td>\n",
       "      <td>Mar 02</td>\n",
       "      <td>SpiceJet</td>\n",
       "      <td>Bangalore</td>\n",
       "      <td>Delhi</td>\n",
       "      <td>06:20</td>\n",
       "      <td>15:00</td>\n",
       "      <td>08h 40m</td>\n",
       "      <td>BLR---&gt;UDR</td>\n",
       "      <td>1-stop</td>\n",
       "      <td>6,022</td>\n",
       "    </tr>\n",
       "    <tr>\n",
       "      <th>28778</th>\n",
       "      <td>28778</td>\n",
       "      <td>Mar 02</td>\n",
       "      <td>AirAsia</td>\n",
       "      <td>Bangalore</td>\n",
       "      <td>Delhi</td>\n",
       "      <td>05:10</td>\n",
       "      <td>14:55</td>\n",
       "      <td>09h 45m</td>\n",
       "      <td>BLR---&gt;IXB</td>\n",
       "      <td>1-stop</td>\n",
       "      <td>6,072</td>\n",
       "    </tr>\n",
       "    <tr>\n",
       "      <th>28780</th>\n",
       "      <td>28780</td>\n",
       "      <td>Mar 02</td>\n",
       "      <td>AirAsia</td>\n",
       "      <td>Bangalore</td>\n",
       "      <td>Delhi</td>\n",
       "      <td>11:45</td>\n",
       "      <td>19:20</td>\n",
       "      <td>07h 35m</td>\n",
       "      <td>BLR---&gt;IXB</td>\n",
       "      <td>1-stop</td>\n",
       "      <td>6,072</td>\n",
       "    </tr>\n",
       "    <tr>\n",
       "      <th>28782</th>\n",
       "      <td>28782</td>\n",
       "      <td>Mar 02</td>\n",
       "      <td>SpiceJet</td>\n",
       "      <td>Bangalore</td>\n",
       "      <td>Delhi</td>\n",
       "      <td>05:45</td>\n",
       "      <td>17:45</td>\n",
       "      <td>12h 00m</td>\n",
       "      <td>BLR---&gt;GOI</td>\n",
       "      <td>1-stop</td>\n",
       "      <td>6,118</td>\n",
       "    </tr>\n",
       "    <tr>\n",
       "      <th>28784</th>\n",
       "      <td>28784</td>\n",
       "      <td>Mar 02</td>\n",
       "      <td>SpiceJet</td>\n",
       "      <td>Bangalore</td>\n",
       "      <td>Delhi</td>\n",
       "      <td>14:05</td>\n",
       "      <td>16:35</td>\n",
       "      <td>26h 30m</td>\n",
       "      <td>BLR---&gt;SAG</td>\n",
       "      <td>1-stop</td>\n",
       "      <td>6,118</td>\n",
       "    </tr>\n",
       "  </tbody>\n",
       "</table>\n",
       "<p>17141 rows × 11 columns</p>\n",
       "</div>"
      ],
      "text/plain": [
       "       Unnamed: 0    Date   Airline     Source Destination Dep_time Arr_time  \\\n",
       "0               0  Feb 03   Vistara     Mumbai     Kolkata    12:25    16:50   \n",
       "1               1  Feb 03  GO FIRST     Mumbai     Kolkata    05:00    07:30   \n",
       "3               3  Feb 03    Indigo     Mumbai     Kolkata    21:40    00:10   \n",
       "5               5  Feb 03  GO FIRST     Mumbai     Kolkata    05:00    09:05   \n",
       "7               7  Feb 03  GO FIRST     Mumbai     Kolkata    05:00    12:30   \n",
       "...           ...     ...       ...        ...         ...      ...      ...   \n",
       "28776       28776  Mar 02  SpiceJet  Bangalore       Delhi    06:20    15:00   \n",
       "28778       28778  Mar 02   AirAsia  Bangalore       Delhi    05:10    14:55   \n",
       "28780       28780  Mar 02   AirAsia  Bangalore       Delhi    11:45    19:20   \n",
       "28782       28782  Mar 02  SpiceJet  Bangalore       Delhi    05:45    17:45   \n",
       "28784       28784  Mar 02  SpiceJet  Bangalore       Delhi    14:05    16:35   \n",
       "\n",
       "       Durtion       Route      stop  price  \n",
       "0      04h 25m  BOM--->CCU    1-stop  7,518  \n",
       "1      02h 30m  BOM--->CCU  non-stop  7,412  \n",
       "3      02h 30m  BOM--->CCU  non-stop  7,412  \n",
       "5      04h 05m  BOM--->HYD    1-stop  7,413  \n",
       "7      07h 30m  BOM--->HYD    1-stop  7,413  \n",
       "...        ...         ...       ...    ...  \n",
       "28776  08h 40m  BLR--->UDR    1-stop  6,022  \n",
       "28778  09h 45m  BLR--->IXB    1-stop  6,072  \n",
       "28780  07h 35m  BLR--->IXB    1-stop  6,072  \n",
       "28782  12h 00m  BLR--->GOI    1-stop  6,118  \n",
       "28784  26h 30m  BLR--->SAG    1-stop  6,118  \n",
       "\n",
       "[17141 rows x 11 columns]"
      ]
     },
     "execution_count": 117,
     "metadata": {},
     "output_type": "execute_result"
    }
   ],
   "source": [
    "df"
   ]
  },
  {
   "cell_type": "code",
   "execution_count": 118,
   "id": "2f1bdf1a",
   "metadata": {},
   "outputs": [],
   "source": [
    "df.drop('Unnamed: 0',axis=1, inplace=True)"
   ]
  },
  {
   "cell_type": "code",
   "execution_count": 119,
   "id": "e48c4ec9",
   "metadata": {},
   "outputs": [
    {
     "data": {
      "text/html": [
       "<div>\n",
       "<style scoped>\n",
       "    .dataframe tbody tr th:only-of-type {\n",
       "        vertical-align: middle;\n",
       "    }\n",
       "\n",
       "    .dataframe tbody tr th {\n",
       "        vertical-align: top;\n",
       "    }\n",
       "\n",
       "    .dataframe thead th {\n",
       "        text-align: right;\n",
       "    }\n",
       "</style>\n",
       "<table border=\"1\" class=\"dataframe\">\n",
       "  <thead>\n",
       "    <tr style=\"text-align: right;\">\n",
       "      <th></th>\n",
       "      <th>Date</th>\n",
       "      <th>Airline</th>\n",
       "      <th>Source</th>\n",
       "      <th>Destination</th>\n",
       "      <th>Dep_time</th>\n",
       "      <th>Arr_time</th>\n",
       "      <th>Durtion</th>\n",
       "      <th>Route</th>\n",
       "      <th>stop</th>\n",
       "      <th>price</th>\n",
       "    </tr>\n",
       "  </thead>\n",
       "  <tbody>\n",
       "    <tr>\n",
       "      <th>0</th>\n",
       "      <td>Feb 03</td>\n",
       "      <td>Vistara</td>\n",
       "      <td>Mumbai</td>\n",
       "      <td>Kolkata</td>\n",
       "      <td>12:25</td>\n",
       "      <td>16:50</td>\n",
       "      <td>04h 25m</td>\n",
       "      <td>BOM---&gt;CCU</td>\n",
       "      <td>1-stop</td>\n",
       "      <td>7,518</td>\n",
       "    </tr>\n",
       "    <tr>\n",
       "      <th>1</th>\n",
       "      <td>Feb 03</td>\n",
       "      <td>GO FIRST</td>\n",
       "      <td>Mumbai</td>\n",
       "      <td>Kolkata</td>\n",
       "      <td>05:00</td>\n",
       "      <td>07:30</td>\n",
       "      <td>02h 30m</td>\n",
       "      <td>BOM---&gt;CCU</td>\n",
       "      <td>non-stop</td>\n",
       "      <td>7,412</td>\n",
       "    </tr>\n",
       "    <tr>\n",
       "      <th>3</th>\n",
       "      <td>Feb 03</td>\n",
       "      <td>Indigo</td>\n",
       "      <td>Mumbai</td>\n",
       "      <td>Kolkata</td>\n",
       "      <td>21:40</td>\n",
       "      <td>00:10</td>\n",
       "      <td>02h 30m</td>\n",
       "      <td>BOM---&gt;CCU</td>\n",
       "      <td>non-stop</td>\n",
       "      <td>7,412</td>\n",
       "    </tr>\n",
       "    <tr>\n",
       "      <th>5</th>\n",
       "      <td>Feb 03</td>\n",
       "      <td>GO FIRST</td>\n",
       "      <td>Mumbai</td>\n",
       "      <td>Kolkata</td>\n",
       "      <td>05:00</td>\n",
       "      <td>09:05</td>\n",
       "      <td>04h 05m</td>\n",
       "      <td>BOM---&gt;HYD</td>\n",
       "      <td>1-stop</td>\n",
       "      <td>7,413</td>\n",
       "    </tr>\n",
       "    <tr>\n",
       "      <th>7</th>\n",
       "      <td>Feb 03</td>\n",
       "      <td>GO FIRST</td>\n",
       "      <td>Mumbai</td>\n",
       "      <td>Kolkata</td>\n",
       "      <td>05:00</td>\n",
       "      <td>12:30</td>\n",
       "      <td>07h 30m</td>\n",
       "      <td>BOM---&gt;HYD</td>\n",
       "      <td>1-stop</td>\n",
       "      <td>7,413</td>\n",
       "    </tr>\n",
       "    <tr>\n",
       "      <th>...</th>\n",
       "      <td>...</td>\n",
       "      <td>...</td>\n",
       "      <td>...</td>\n",
       "      <td>...</td>\n",
       "      <td>...</td>\n",
       "      <td>...</td>\n",
       "      <td>...</td>\n",
       "      <td>...</td>\n",
       "      <td>...</td>\n",
       "      <td>...</td>\n",
       "    </tr>\n",
       "    <tr>\n",
       "      <th>28776</th>\n",
       "      <td>Mar 02</td>\n",
       "      <td>SpiceJet</td>\n",
       "      <td>Bangalore</td>\n",
       "      <td>Delhi</td>\n",
       "      <td>06:20</td>\n",
       "      <td>15:00</td>\n",
       "      <td>08h 40m</td>\n",
       "      <td>BLR---&gt;UDR</td>\n",
       "      <td>1-stop</td>\n",
       "      <td>6,022</td>\n",
       "    </tr>\n",
       "    <tr>\n",
       "      <th>28778</th>\n",
       "      <td>Mar 02</td>\n",
       "      <td>AirAsia</td>\n",
       "      <td>Bangalore</td>\n",
       "      <td>Delhi</td>\n",
       "      <td>05:10</td>\n",
       "      <td>14:55</td>\n",
       "      <td>09h 45m</td>\n",
       "      <td>BLR---&gt;IXB</td>\n",
       "      <td>1-stop</td>\n",
       "      <td>6,072</td>\n",
       "    </tr>\n",
       "    <tr>\n",
       "      <th>28780</th>\n",
       "      <td>Mar 02</td>\n",
       "      <td>AirAsia</td>\n",
       "      <td>Bangalore</td>\n",
       "      <td>Delhi</td>\n",
       "      <td>11:45</td>\n",
       "      <td>19:20</td>\n",
       "      <td>07h 35m</td>\n",
       "      <td>BLR---&gt;IXB</td>\n",
       "      <td>1-stop</td>\n",
       "      <td>6,072</td>\n",
       "    </tr>\n",
       "    <tr>\n",
       "      <th>28782</th>\n",
       "      <td>Mar 02</td>\n",
       "      <td>SpiceJet</td>\n",
       "      <td>Bangalore</td>\n",
       "      <td>Delhi</td>\n",
       "      <td>05:45</td>\n",
       "      <td>17:45</td>\n",
       "      <td>12h 00m</td>\n",
       "      <td>BLR---&gt;GOI</td>\n",
       "      <td>1-stop</td>\n",
       "      <td>6,118</td>\n",
       "    </tr>\n",
       "    <tr>\n",
       "      <th>28784</th>\n",
       "      <td>Mar 02</td>\n",
       "      <td>SpiceJet</td>\n",
       "      <td>Bangalore</td>\n",
       "      <td>Delhi</td>\n",
       "      <td>14:05</td>\n",
       "      <td>16:35</td>\n",
       "      <td>26h 30m</td>\n",
       "      <td>BLR---&gt;SAG</td>\n",
       "      <td>1-stop</td>\n",
       "      <td>6,118</td>\n",
       "    </tr>\n",
       "  </tbody>\n",
       "</table>\n",
       "<p>17141 rows × 10 columns</p>\n",
       "</div>"
      ],
      "text/plain": [
       "         Date   Airline     Source Destination Dep_time Arr_time  Durtion  \\\n",
       "0      Feb 03   Vistara     Mumbai     Kolkata    12:25    16:50  04h 25m   \n",
       "1      Feb 03  GO FIRST     Mumbai     Kolkata    05:00    07:30  02h 30m   \n",
       "3      Feb 03    Indigo     Mumbai     Kolkata    21:40    00:10  02h 30m   \n",
       "5      Feb 03  GO FIRST     Mumbai     Kolkata    05:00    09:05  04h 05m   \n",
       "7      Feb 03  GO FIRST     Mumbai     Kolkata    05:00    12:30  07h 30m   \n",
       "...       ...       ...        ...         ...      ...      ...      ...   \n",
       "28776  Mar 02  SpiceJet  Bangalore       Delhi    06:20    15:00  08h 40m   \n",
       "28778  Mar 02   AirAsia  Bangalore       Delhi    05:10    14:55  09h 45m   \n",
       "28780  Mar 02   AirAsia  Bangalore       Delhi    11:45    19:20  07h 35m   \n",
       "28782  Mar 02  SpiceJet  Bangalore       Delhi    05:45    17:45  12h 00m   \n",
       "28784  Mar 02  SpiceJet  Bangalore       Delhi    14:05    16:35  26h 30m   \n",
       "\n",
       "            Route      stop  price  \n",
       "0      BOM--->CCU    1-stop  7,518  \n",
       "1      BOM--->CCU  non-stop  7,412  \n",
       "3      BOM--->CCU  non-stop  7,412  \n",
       "5      BOM--->HYD    1-stop  7,413  \n",
       "7      BOM--->HYD    1-stop  7,413  \n",
       "...           ...       ...    ...  \n",
       "28776  BLR--->UDR    1-stop  6,022  \n",
       "28778  BLR--->IXB    1-stop  6,072  \n",
       "28780  BLR--->IXB    1-stop  6,072  \n",
       "28782  BLR--->GOI    1-stop  6,118  \n",
       "28784  BLR--->SAG    1-stop  6,118  \n",
       "\n",
       "[17141 rows x 10 columns]"
      ]
     },
     "execution_count": 119,
     "metadata": {},
     "output_type": "execute_result"
    }
   ],
   "source": [
    "df"
   ]
  },
  {
   "cell_type": "code",
   "execution_count": 120,
   "id": "35694e2e",
   "metadata": {},
   "outputs": [
    {
     "data": {
      "text/plain": [
       "Date           0\n",
       "Airline        0\n",
       "Source         0\n",
       "Destination    0\n",
       "Dep_time       0\n",
       "Arr_time       0\n",
       "Durtion        0\n",
       "Route          0\n",
       "stop           0\n",
       "price          0\n",
       "dtype: int64"
      ]
     },
     "execution_count": 120,
     "metadata": {},
     "output_type": "execute_result"
    }
   ],
   "source": [
    "df.isnull().sum()"
   ]
  },
  {
   "cell_type": "code",
   "execution_count": 121,
   "id": "ac0d69f9",
   "metadata": {},
   "outputs": [],
   "source": [
    "#converting the objects to hours,minutes\n",
    "df[\"Dep_hour\"] = pd.to_datetime(df[\"Dep_time\"]).dt.hour\n",
    "df[\"Dep_min\"] = pd.to_datetime(df[\"Dep_time\"]).dt.minute\n",
    "df.drop([\"Dep_time\"], axis = 1, inplace = True)"
   ]
  },
  {
   "cell_type": "code",
   "execution_count": 122,
   "id": "7866f882",
   "metadata": {},
   "outputs": [],
   "source": [
    "#converting the objects to hours, minutes\n",
    "df[\"Arr_hour\"] = pd.to_datetime(df[\"Arr_time\"]).dt.hour\n",
    "df[\"Arr_min\"] = pd.to_datetime(df[\"Arr_time\"]).dt.minute\n",
    "df.drop([\"Arr_time\"], axis = 1, inplace = True)"
   ]
  },
  {
   "cell_type": "code",
   "execution_count": 123,
   "id": "c11919ec",
   "metadata": {},
   "outputs": [
    {
     "data": {
      "text/html": [
       "<div>\n",
       "<style scoped>\n",
       "    .dataframe tbody tr th:only-of-type {\n",
       "        vertical-align: middle;\n",
       "    }\n",
       "\n",
       "    .dataframe tbody tr th {\n",
       "        vertical-align: top;\n",
       "    }\n",
       "\n",
       "    .dataframe thead th {\n",
       "        text-align: right;\n",
       "    }\n",
       "</style>\n",
       "<table border=\"1\" class=\"dataframe\">\n",
       "  <thead>\n",
       "    <tr style=\"text-align: right;\">\n",
       "      <th></th>\n",
       "      <th>Date</th>\n",
       "      <th>Airline</th>\n",
       "      <th>Source</th>\n",
       "      <th>Destination</th>\n",
       "      <th>Durtion</th>\n",
       "      <th>Route</th>\n",
       "      <th>stop</th>\n",
       "      <th>price</th>\n",
       "      <th>Dep_hour</th>\n",
       "      <th>Dep_min</th>\n",
       "      <th>Arr_hour</th>\n",
       "      <th>Arr_min</th>\n",
       "    </tr>\n",
       "  </thead>\n",
       "  <tbody>\n",
       "    <tr>\n",
       "      <th>0</th>\n",
       "      <td>Feb 03</td>\n",
       "      <td>Vistara</td>\n",
       "      <td>Mumbai</td>\n",
       "      <td>Kolkata</td>\n",
       "      <td>04h 25m</td>\n",
       "      <td>BOM---&gt;CCU</td>\n",
       "      <td>1-stop</td>\n",
       "      <td>7,518</td>\n",
       "      <td>12</td>\n",
       "      <td>25</td>\n",
       "      <td>16</td>\n",
       "      <td>50</td>\n",
       "    </tr>\n",
       "    <tr>\n",
       "      <th>1</th>\n",
       "      <td>Feb 03</td>\n",
       "      <td>GO FIRST</td>\n",
       "      <td>Mumbai</td>\n",
       "      <td>Kolkata</td>\n",
       "      <td>02h 30m</td>\n",
       "      <td>BOM---&gt;CCU</td>\n",
       "      <td>non-stop</td>\n",
       "      <td>7,412</td>\n",
       "      <td>5</td>\n",
       "      <td>0</td>\n",
       "      <td>7</td>\n",
       "      <td>30</td>\n",
       "    </tr>\n",
       "    <tr>\n",
       "      <th>3</th>\n",
       "      <td>Feb 03</td>\n",
       "      <td>Indigo</td>\n",
       "      <td>Mumbai</td>\n",
       "      <td>Kolkata</td>\n",
       "      <td>02h 30m</td>\n",
       "      <td>BOM---&gt;CCU</td>\n",
       "      <td>non-stop</td>\n",
       "      <td>7,412</td>\n",
       "      <td>21</td>\n",
       "      <td>40</td>\n",
       "      <td>0</td>\n",
       "      <td>10</td>\n",
       "    </tr>\n",
       "    <tr>\n",
       "      <th>5</th>\n",
       "      <td>Feb 03</td>\n",
       "      <td>GO FIRST</td>\n",
       "      <td>Mumbai</td>\n",
       "      <td>Kolkata</td>\n",
       "      <td>04h 05m</td>\n",
       "      <td>BOM---&gt;HYD</td>\n",
       "      <td>1-stop</td>\n",
       "      <td>7,413</td>\n",
       "      <td>5</td>\n",
       "      <td>0</td>\n",
       "      <td>9</td>\n",
       "      <td>5</td>\n",
       "    </tr>\n",
       "    <tr>\n",
       "      <th>7</th>\n",
       "      <td>Feb 03</td>\n",
       "      <td>GO FIRST</td>\n",
       "      <td>Mumbai</td>\n",
       "      <td>Kolkata</td>\n",
       "      <td>07h 30m</td>\n",
       "      <td>BOM---&gt;HYD</td>\n",
       "      <td>1-stop</td>\n",
       "      <td>7,413</td>\n",
       "      <td>5</td>\n",
       "      <td>0</td>\n",
       "      <td>12</td>\n",
       "      <td>30</td>\n",
       "    </tr>\n",
       "  </tbody>\n",
       "</table>\n",
       "</div>"
      ],
      "text/plain": [
       "     Date   Airline  Source Destination  Durtion       Route      stop  price  \\\n",
       "0  Feb 03   Vistara  Mumbai     Kolkata  04h 25m  BOM--->CCU    1-stop  7,518   \n",
       "1  Feb 03  GO FIRST  Mumbai     Kolkata  02h 30m  BOM--->CCU  non-stop  7,412   \n",
       "3  Feb 03    Indigo  Mumbai     Kolkata  02h 30m  BOM--->CCU  non-stop  7,412   \n",
       "5  Feb 03  GO FIRST  Mumbai     Kolkata  04h 05m  BOM--->HYD    1-stop  7,413   \n",
       "7  Feb 03  GO FIRST  Mumbai     Kolkata  07h 30m  BOM--->HYD    1-stop  7,413   \n",
       "\n",
       "   Dep_hour  Dep_min  Arr_hour  Arr_min  \n",
       "0        12       25        16       50  \n",
       "1         5        0         7       30  \n",
       "3        21       40         0       10  \n",
       "5         5        0         9        5  \n",
       "7         5        0        12       30  "
      ]
     },
     "execution_count": 123,
     "metadata": {},
     "output_type": "execute_result"
    }
   ],
   "source": [
    "df.head()"
   ]
  },
  {
   "cell_type": "code",
   "execution_count": 124,
   "id": "1640bb35",
   "metadata": {},
   "outputs": [],
   "source": [
    "#replace the h,m from the duration \n",
    "df['Durtion']=df['Durtion'].str.replace(\"h\",':')\n",
    "df['Durtion']=df['Durtion'].str.replace(\"m\",'')\n",
    "df['Durtion']=df['Durtion'].str.replace(\" \",'')\n",
    "\n",
    "#spliting the hours and minutes \n",
    "df[\"Dur_hour\"]=df['Durtion'].str.split(':').str[0]\n",
    "df[\"Dur_min\"]=df['Durtion'].str.split(':').str[1]\n",
    "df.drop([\"Durtion\"], axis = 1, inplace = True)"
   ]
  },
  {
   "cell_type": "code",
   "execution_count": 125,
   "id": "e5d06c8e",
   "metadata": {},
   "outputs": [],
   "source": [
    "#removing the comma symbole form price\n",
    "df['price']=df['price'].str.replace(\",\",\"\")"
   ]
  },
  {
   "cell_type": "code",
   "execution_count": 126,
   "id": "ed5da9c3",
   "metadata": {},
   "outputs": [],
   "source": [
    "df['Month']=df['Date'].str.split(\" \").str[0]\n",
    "df['day']=df['Date'].str.split(\" \").str[1]"
   ]
  },
  {
   "cell_type": "code",
   "execution_count": 127,
   "id": "e0ed95f6",
   "metadata": {},
   "outputs": [
    {
     "data": {
      "text/html": [
       "<div>\n",
       "<style scoped>\n",
       "    .dataframe tbody tr th:only-of-type {\n",
       "        vertical-align: middle;\n",
       "    }\n",
       "\n",
       "    .dataframe tbody tr th {\n",
       "        vertical-align: top;\n",
       "    }\n",
       "\n",
       "    .dataframe thead th {\n",
       "        text-align: right;\n",
       "    }\n",
       "</style>\n",
       "<table border=\"1\" class=\"dataframe\">\n",
       "  <thead>\n",
       "    <tr style=\"text-align: right;\">\n",
       "      <th></th>\n",
       "      <th>Date</th>\n",
       "      <th>Airline</th>\n",
       "      <th>Source</th>\n",
       "      <th>Destination</th>\n",
       "      <th>Route</th>\n",
       "      <th>stop</th>\n",
       "      <th>price</th>\n",
       "      <th>Dep_hour</th>\n",
       "      <th>Dep_min</th>\n",
       "      <th>Arr_hour</th>\n",
       "      <th>Arr_min</th>\n",
       "      <th>Dur_hour</th>\n",
       "      <th>Dur_min</th>\n",
       "      <th>Month</th>\n",
       "      <th>day</th>\n",
       "    </tr>\n",
       "  </thead>\n",
       "  <tbody>\n",
       "    <tr>\n",
       "      <th>0</th>\n",
       "      <td>Feb 03</td>\n",
       "      <td>Vistara</td>\n",
       "      <td>Mumbai</td>\n",
       "      <td>Kolkata</td>\n",
       "      <td>BOM---&gt;CCU</td>\n",
       "      <td>1-stop</td>\n",
       "      <td>7518</td>\n",
       "      <td>12</td>\n",
       "      <td>25</td>\n",
       "      <td>16</td>\n",
       "      <td>50</td>\n",
       "      <td>04</td>\n",
       "      <td>25</td>\n",
       "      <td>Feb</td>\n",
       "      <td>03</td>\n",
       "    </tr>\n",
       "    <tr>\n",
       "      <th>1</th>\n",
       "      <td>Feb 03</td>\n",
       "      <td>GO FIRST</td>\n",
       "      <td>Mumbai</td>\n",
       "      <td>Kolkata</td>\n",
       "      <td>BOM---&gt;CCU</td>\n",
       "      <td>non-stop</td>\n",
       "      <td>7412</td>\n",
       "      <td>5</td>\n",
       "      <td>0</td>\n",
       "      <td>7</td>\n",
       "      <td>30</td>\n",
       "      <td>02</td>\n",
       "      <td>30</td>\n",
       "      <td>Feb</td>\n",
       "      <td>03</td>\n",
       "    </tr>\n",
       "    <tr>\n",
       "      <th>3</th>\n",
       "      <td>Feb 03</td>\n",
       "      <td>Indigo</td>\n",
       "      <td>Mumbai</td>\n",
       "      <td>Kolkata</td>\n",
       "      <td>BOM---&gt;CCU</td>\n",
       "      <td>non-stop</td>\n",
       "      <td>7412</td>\n",
       "      <td>21</td>\n",
       "      <td>40</td>\n",
       "      <td>0</td>\n",
       "      <td>10</td>\n",
       "      <td>02</td>\n",
       "      <td>30</td>\n",
       "      <td>Feb</td>\n",
       "      <td>03</td>\n",
       "    </tr>\n",
       "    <tr>\n",
       "      <th>5</th>\n",
       "      <td>Feb 03</td>\n",
       "      <td>GO FIRST</td>\n",
       "      <td>Mumbai</td>\n",
       "      <td>Kolkata</td>\n",
       "      <td>BOM---&gt;HYD</td>\n",
       "      <td>1-stop</td>\n",
       "      <td>7413</td>\n",
       "      <td>5</td>\n",
       "      <td>0</td>\n",
       "      <td>9</td>\n",
       "      <td>5</td>\n",
       "      <td>04</td>\n",
       "      <td>05</td>\n",
       "      <td>Feb</td>\n",
       "      <td>03</td>\n",
       "    </tr>\n",
       "    <tr>\n",
       "      <th>7</th>\n",
       "      <td>Feb 03</td>\n",
       "      <td>GO FIRST</td>\n",
       "      <td>Mumbai</td>\n",
       "      <td>Kolkata</td>\n",
       "      <td>BOM---&gt;HYD</td>\n",
       "      <td>1-stop</td>\n",
       "      <td>7413</td>\n",
       "      <td>5</td>\n",
       "      <td>0</td>\n",
       "      <td>12</td>\n",
       "      <td>30</td>\n",
       "      <td>07</td>\n",
       "      <td>30</td>\n",
       "      <td>Feb</td>\n",
       "      <td>03</td>\n",
       "    </tr>\n",
       "  </tbody>\n",
       "</table>\n",
       "</div>"
      ],
      "text/plain": [
       "     Date   Airline  Source Destination       Route      stop price  Dep_hour  \\\n",
       "0  Feb 03   Vistara  Mumbai     Kolkata  BOM--->CCU    1-stop  7518        12   \n",
       "1  Feb 03  GO FIRST  Mumbai     Kolkata  BOM--->CCU  non-stop  7412         5   \n",
       "3  Feb 03    Indigo  Mumbai     Kolkata  BOM--->CCU  non-stop  7412        21   \n",
       "5  Feb 03  GO FIRST  Mumbai     Kolkata  BOM--->HYD    1-stop  7413         5   \n",
       "7  Feb 03  GO FIRST  Mumbai     Kolkata  BOM--->HYD    1-stop  7413         5   \n",
       "\n",
       "   Dep_min  Arr_hour  Arr_min Dur_hour Dur_min Month day  \n",
       "0       25        16       50       04      25   Feb  03  \n",
       "1        0         7       30       02      30   Feb  03  \n",
       "3       40         0       10       02      30   Feb  03  \n",
       "5        0         9        5       04      05   Feb  03  \n",
       "7        0        12       30       07      30   Feb  03  "
      ]
     },
     "execution_count": 127,
     "metadata": {},
     "output_type": "execute_result"
    }
   ],
   "source": [
    "df.head()"
   ]
  },
  {
   "cell_type": "code",
   "execution_count": 128,
   "id": "32b9c406",
   "metadata": {},
   "outputs": [],
   "source": [
    "df.drop([\"Date\"], axis = 1, inplace = True)"
   ]
  },
  {
   "cell_type": "code",
   "execution_count": 129,
   "id": "d85092c4",
   "metadata": {},
   "outputs": [],
   "source": [
    "column=['Airline', 'Source', 'Destination', 'day', 'Month','Route','Dep_hour','Dep_min', 'Dur_hour','Dur_min','Arr_hour','Arr_min','stop','price']\n",
    "  \n",
    "# create the new index for columns\n",
    "df=df.reindex(column, axis='columns')"
   ]
  },
  {
   "cell_type": "code",
   "execution_count": 130,
   "id": "571b82be",
   "metadata": {},
   "outputs": [
    {
     "data": {
      "text/html": [
       "<div>\n",
       "<style scoped>\n",
       "    .dataframe tbody tr th:only-of-type {\n",
       "        vertical-align: middle;\n",
       "    }\n",
       "\n",
       "    .dataframe tbody tr th {\n",
       "        vertical-align: top;\n",
       "    }\n",
       "\n",
       "    .dataframe thead th {\n",
       "        text-align: right;\n",
       "    }\n",
       "</style>\n",
       "<table border=\"1\" class=\"dataframe\">\n",
       "  <thead>\n",
       "    <tr style=\"text-align: right;\">\n",
       "      <th></th>\n",
       "      <th>Airline</th>\n",
       "      <th>Source</th>\n",
       "      <th>Destination</th>\n",
       "      <th>day</th>\n",
       "      <th>Month</th>\n",
       "      <th>Route</th>\n",
       "      <th>Dep_hour</th>\n",
       "      <th>Dep_min</th>\n",
       "      <th>Dur_hour</th>\n",
       "      <th>Dur_min</th>\n",
       "      <th>Arr_hour</th>\n",
       "      <th>Arr_min</th>\n",
       "      <th>stop</th>\n",
       "      <th>price</th>\n",
       "    </tr>\n",
       "  </thead>\n",
       "  <tbody>\n",
       "    <tr>\n",
       "      <th>0</th>\n",
       "      <td>Vistara</td>\n",
       "      <td>Mumbai</td>\n",
       "      <td>Kolkata</td>\n",
       "      <td>03</td>\n",
       "      <td>Feb</td>\n",
       "      <td>BOM---&gt;CCU</td>\n",
       "      <td>12</td>\n",
       "      <td>25</td>\n",
       "      <td>04</td>\n",
       "      <td>25</td>\n",
       "      <td>16</td>\n",
       "      <td>50</td>\n",
       "      <td>1-stop</td>\n",
       "      <td>7518</td>\n",
       "    </tr>\n",
       "    <tr>\n",
       "      <th>1</th>\n",
       "      <td>GO FIRST</td>\n",
       "      <td>Mumbai</td>\n",
       "      <td>Kolkata</td>\n",
       "      <td>03</td>\n",
       "      <td>Feb</td>\n",
       "      <td>BOM---&gt;CCU</td>\n",
       "      <td>5</td>\n",
       "      <td>0</td>\n",
       "      <td>02</td>\n",
       "      <td>30</td>\n",
       "      <td>7</td>\n",
       "      <td>30</td>\n",
       "      <td>non-stop</td>\n",
       "      <td>7412</td>\n",
       "    </tr>\n",
       "    <tr>\n",
       "      <th>3</th>\n",
       "      <td>Indigo</td>\n",
       "      <td>Mumbai</td>\n",
       "      <td>Kolkata</td>\n",
       "      <td>03</td>\n",
       "      <td>Feb</td>\n",
       "      <td>BOM---&gt;CCU</td>\n",
       "      <td>21</td>\n",
       "      <td>40</td>\n",
       "      <td>02</td>\n",
       "      <td>30</td>\n",
       "      <td>0</td>\n",
       "      <td>10</td>\n",
       "      <td>non-stop</td>\n",
       "      <td>7412</td>\n",
       "    </tr>\n",
       "    <tr>\n",
       "      <th>5</th>\n",
       "      <td>GO FIRST</td>\n",
       "      <td>Mumbai</td>\n",
       "      <td>Kolkata</td>\n",
       "      <td>03</td>\n",
       "      <td>Feb</td>\n",
       "      <td>BOM---&gt;HYD</td>\n",
       "      <td>5</td>\n",
       "      <td>0</td>\n",
       "      <td>04</td>\n",
       "      <td>05</td>\n",
       "      <td>9</td>\n",
       "      <td>5</td>\n",
       "      <td>1-stop</td>\n",
       "      <td>7413</td>\n",
       "    </tr>\n",
       "    <tr>\n",
       "      <th>7</th>\n",
       "      <td>GO FIRST</td>\n",
       "      <td>Mumbai</td>\n",
       "      <td>Kolkata</td>\n",
       "      <td>03</td>\n",
       "      <td>Feb</td>\n",
       "      <td>BOM---&gt;HYD</td>\n",
       "      <td>5</td>\n",
       "      <td>0</td>\n",
       "      <td>07</td>\n",
       "      <td>30</td>\n",
       "      <td>12</td>\n",
       "      <td>30</td>\n",
       "      <td>1-stop</td>\n",
       "      <td>7413</td>\n",
       "    </tr>\n",
       "  </tbody>\n",
       "</table>\n",
       "</div>"
      ],
      "text/plain": [
       "    Airline  Source Destination day Month       Route  Dep_hour  Dep_min  \\\n",
       "0   Vistara  Mumbai     Kolkata  03   Feb  BOM--->CCU        12       25   \n",
       "1  GO FIRST  Mumbai     Kolkata  03   Feb  BOM--->CCU         5        0   \n",
       "3    Indigo  Mumbai     Kolkata  03   Feb  BOM--->CCU        21       40   \n",
       "5  GO FIRST  Mumbai     Kolkata  03   Feb  BOM--->HYD         5        0   \n",
       "7  GO FIRST  Mumbai     Kolkata  03   Feb  BOM--->HYD         5        0   \n",
       "\n",
       "  Dur_hour Dur_min  Arr_hour  Arr_min      stop price  \n",
       "0       04      25        16       50    1-stop  7518  \n",
       "1       02      30         7       30  non-stop  7412  \n",
       "3       02      30         0       10  non-stop  7412  \n",
       "5       04      05         9        5    1-stop  7413  \n",
       "7       07      30        12       30    1-stop  7413  "
      ]
     },
     "execution_count": 130,
     "metadata": {},
     "output_type": "execute_result"
    }
   ],
   "source": [
    "df.head()"
   ]
  },
  {
   "cell_type": "code",
   "execution_count": 131,
   "id": "b2a58979",
   "metadata": {},
   "outputs": [],
   "source": [
    "df[\"day\"] = pd.to_datetime(df.day, format=\"%d\").dt.day\n",
    "df['Month'] =df['Month'].str.replace('Feb','2')\n",
    "df['Month'] =df['Month'].str.replace('Mar','3')\n",
    "df[\"Month\"] = pd.to_datetime(df[\"Month\"], format = \"%m\").dt.month"
   ]
  },
  {
   "cell_type": "code",
   "execution_count": 132,
   "id": "cf0ccce8",
   "metadata": {},
   "outputs": [],
   "source": [
    "#converting object to numeric data type \n",
    "df[\"Dep_hour\"]=pd.to_numeric(df[\"Dep_hour\"])\n",
    "df[\"Dur_min\"]=pd.to_numeric(df[\"Dur_min\"])\n",
    "df['price']=pd.to_numeric(df['price'])"
   ]
  },
  {
   "cell_type": "code",
   "execution_count": 133,
   "id": "cdfc5ee8",
   "metadata": {},
   "outputs": [
    {
     "data": {
      "text/html": [
       "<div>\n",
       "<style scoped>\n",
       "    .dataframe tbody tr th:only-of-type {\n",
       "        vertical-align: middle;\n",
       "    }\n",
       "\n",
       "    .dataframe tbody tr th {\n",
       "        vertical-align: top;\n",
       "    }\n",
       "\n",
       "    .dataframe thead th {\n",
       "        text-align: right;\n",
       "    }\n",
       "</style>\n",
       "<table border=\"1\" class=\"dataframe\">\n",
       "  <thead>\n",
       "    <tr style=\"text-align: right;\">\n",
       "      <th></th>\n",
       "      <th>Airline</th>\n",
       "      <th>Source</th>\n",
       "      <th>Destination</th>\n",
       "      <th>day</th>\n",
       "      <th>Month</th>\n",
       "      <th>Route</th>\n",
       "      <th>Dep_hour</th>\n",
       "      <th>Dep_min</th>\n",
       "      <th>Dur_hour</th>\n",
       "      <th>Dur_min</th>\n",
       "      <th>Arr_hour</th>\n",
       "      <th>Arr_min</th>\n",
       "      <th>stop</th>\n",
       "      <th>price</th>\n",
       "    </tr>\n",
       "  </thead>\n",
       "  <tbody>\n",
       "    <tr>\n",
       "      <th>0</th>\n",
       "      <td>Vistara</td>\n",
       "      <td>Mumbai</td>\n",
       "      <td>Kolkata</td>\n",
       "      <td>3</td>\n",
       "      <td>2</td>\n",
       "      <td>BOM---&gt;CCU</td>\n",
       "      <td>12</td>\n",
       "      <td>25</td>\n",
       "      <td>04</td>\n",
       "      <td>25</td>\n",
       "      <td>16</td>\n",
       "      <td>50</td>\n",
       "      <td>1-stop</td>\n",
       "      <td>7518</td>\n",
       "    </tr>\n",
       "    <tr>\n",
       "      <th>1</th>\n",
       "      <td>GO FIRST</td>\n",
       "      <td>Mumbai</td>\n",
       "      <td>Kolkata</td>\n",
       "      <td>3</td>\n",
       "      <td>2</td>\n",
       "      <td>BOM---&gt;CCU</td>\n",
       "      <td>5</td>\n",
       "      <td>0</td>\n",
       "      <td>02</td>\n",
       "      <td>30</td>\n",
       "      <td>7</td>\n",
       "      <td>30</td>\n",
       "      <td>non-stop</td>\n",
       "      <td>7412</td>\n",
       "    </tr>\n",
       "    <tr>\n",
       "      <th>3</th>\n",
       "      <td>Indigo</td>\n",
       "      <td>Mumbai</td>\n",
       "      <td>Kolkata</td>\n",
       "      <td>3</td>\n",
       "      <td>2</td>\n",
       "      <td>BOM---&gt;CCU</td>\n",
       "      <td>21</td>\n",
       "      <td>40</td>\n",
       "      <td>02</td>\n",
       "      <td>30</td>\n",
       "      <td>0</td>\n",
       "      <td>10</td>\n",
       "      <td>non-stop</td>\n",
       "      <td>7412</td>\n",
       "    </tr>\n",
       "    <tr>\n",
       "      <th>5</th>\n",
       "      <td>GO FIRST</td>\n",
       "      <td>Mumbai</td>\n",
       "      <td>Kolkata</td>\n",
       "      <td>3</td>\n",
       "      <td>2</td>\n",
       "      <td>BOM---&gt;HYD</td>\n",
       "      <td>5</td>\n",
       "      <td>0</td>\n",
       "      <td>04</td>\n",
       "      <td>5</td>\n",
       "      <td>9</td>\n",
       "      <td>5</td>\n",
       "      <td>1-stop</td>\n",
       "      <td>7413</td>\n",
       "    </tr>\n",
       "    <tr>\n",
       "      <th>7</th>\n",
       "      <td>GO FIRST</td>\n",
       "      <td>Mumbai</td>\n",
       "      <td>Kolkata</td>\n",
       "      <td>3</td>\n",
       "      <td>2</td>\n",
       "      <td>BOM---&gt;HYD</td>\n",
       "      <td>5</td>\n",
       "      <td>0</td>\n",
       "      <td>07</td>\n",
       "      <td>30</td>\n",
       "      <td>12</td>\n",
       "      <td>30</td>\n",
       "      <td>1-stop</td>\n",
       "      <td>7413</td>\n",
       "    </tr>\n",
       "  </tbody>\n",
       "</table>\n",
       "</div>"
      ],
      "text/plain": [
       "    Airline  Source Destination  day  Month       Route  Dep_hour  Dep_min  \\\n",
       "0   Vistara  Mumbai     Kolkata    3      2  BOM--->CCU        12       25   \n",
       "1  GO FIRST  Mumbai     Kolkata    3      2  BOM--->CCU         5        0   \n",
       "3    Indigo  Mumbai     Kolkata    3      2  BOM--->CCU        21       40   \n",
       "5  GO FIRST  Mumbai     Kolkata    3      2  BOM--->HYD         5        0   \n",
       "7  GO FIRST  Mumbai     Kolkata    3      2  BOM--->HYD         5        0   \n",
       "\n",
       "  Dur_hour  Dur_min  Arr_hour  Arr_min      stop  price  \n",
       "0       04       25        16       50    1-stop   7518  \n",
       "1       02       30         7       30  non-stop   7412  \n",
       "3       02       30         0       10  non-stop   7412  \n",
       "5       04        5         9        5    1-stop   7413  \n",
       "7       07       30        12       30    1-stop   7413  "
      ]
     },
     "execution_count": 133,
     "metadata": {},
     "output_type": "execute_result"
    }
   ],
   "source": [
    "df.head()"
   ]
  },
  {
   "cell_type": "code",
   "execution_count": 134,
   "id": "6334c0a3",
   "metadata": {},
   "outputs": [
    {
     "name": "stdout",
     "output_type": "stream",
     "text": [
      "Vistara      5182\n",
      "Air India    3705\n",
      "GO FIRST     2827\n",
      "Indigo       2705\n",
      "AirAsia      1535\n",
      "SpiceJet     1187\n",
      "Name: Airline, dtype: int64\n"
     ]
    },
    {
     "data": {
      "image/png": "[encoded data removed]",
      "text/plain": [
       "<Figure size 720x360 with 1 Axes>"
      ]
     },
     "metadata": {
      "needs_background": "light"
     },
     "output_type": "display_data"
    }
   ],
   "source": [
    "fig=plt.figure(figsize=(10,5))\n",
    "sns.countplot(df['Airline'])\n",
    "print(df['Airline'].value_counts())\n",
    "plt.show()"
   ]
  },
  {
   "cell_type": "code",
   "execution_count": 135,
   "id": "bc578b1a",
   "metadata": {},
   "outputs": [
    {
     "data": {
      "image/png": "[encoded data removed]",
      "text/plain": [
       "<Figure size 360x360 with 1 Axes>"
      ]
     },
     "metadata": {
      "needs_background": "light"
     },
     "output_type": "display_data"
    }
   ],
   "source": [
    "fig=plt.figure(figsize=(5,5))\n",
    "sns.countplot(df['Source'])\n",
    "plt.show()"
   ]
  },
  {
   "cell_type": "code",
   "execution_count": 136,
   "id": "061d07d4",
   "metadata": {},
   "outputs": [
    {
     "name": "stdout",
     "output_type": "stream",
     "text": [
      "Delhi      10396\n",
      "Kolkata     6745\n",
      "Name: Destination, dtype: int64\n"
     ]
    },
    {
     "data": {
      "image/png": "[encoded data removed]",
      "text/plain": [
       "<Figure size 216x216 with 1 Axes>"
      ]
     },
     "metadata": {
      "needs_background": "light"
     },
     "output_type": "display_data"
    }
   ],
   "source": [
    "fig=plt.figure(figsize=(3,3))\n",
    "sns.countplot(df['Destination'])\n",
    "print(df['Destination'].value_counts())\n",
    "plt.show()"
   ]
  },
  {
   "cell_type": "code",
   "execution_count": 137,
   "id": "2959c737",
   "metadata": {},
   "outputs": [
    {
     "name": "stdout",
     "output_type": "stream",
     "text": [
      "27    712\n",
      "20    706\n",
      "21    696\n",
      "28    695\n",
      "22    687\n",
      "1     685\n",
      "17    676\n",
      "25    676\n",
      "18    674\n",
      "24    673\n",
      "23    669\n",
      "16    666\n",
      "15    654\n",
      "14    642\n",
      "19    636\n",
      "26    636\n",
      "13    623\n",
      "2     612\n",
      "4     599\n",
      "11    591\n",
      "12    554\n",
      "7     520\n",
      "6     514\n",
      "10    505\n",
      "8     501\n",
      "9     499\n",
      "5     436\n",
      "3     404\n",
      "Name: day, dtype: int64\n"
     ]
    },
    {
     "data": {
      "image/png": "[encoded data removed]",
      "text/plain": [
       "<Figure size 720x360 with 1 Axes>"
      ]
     },
     "metadata": {
      "needs_background": "light"
     },
     "output_type": "display_data"
    }
   ],
   "source": [
    "#number of flights from bangalore to delhi\n",
    "fig=plt.figure(figsize=(10,5))\n",
    "sns.countplot(df['day'])\n",
    "print(df['day'].value_counts())\n",
    "plt.show()"
   ]
  },
  {
   "cell_type": "code",
   "execution_count": 138,
   "id": "27ab1343",
   "metadata": {},
   "outputs": [
    {
     "name": "stdout",
     "output_type": "stream",
     "text": [
      "2    15415\n",
      "3     1726\n",
      "Name: Month, dtype: int64\n"
     ]
    },
    {
     "data": {
      "image/png": "[encoded data removed]",
      "text/plain": [
       "<Figure size 144x144 with 1 Axes>"
      ]
     },
     "metadata": {
      "needs_background": "light"
     },
     "output_type": "display_data"
    }
   ],
   "source": [
    "fig=plt.figure(figsize=(2,2))\n",
    "sns.countplot(df['Month'])\n",
    "print(df['Month'].value_counts())\n",
    "plt.show()"
   ]
  },
  {
   "cell_type": "code",
   "execution_count": 139,
   "id": "f85e95be",
   "metadata": {},
   "outputs": [
    {
     "name": "stdout",
     "output_type": "stream",
     "text": [
      "1-stop      13779\n",
      "non-stop     2684\n",
      "2+-stop       678\n",
      "Name: stop, dtype: int64\n"
     ]
    },
    {
     "data": {
      "image/png": "[encoded data removed]",
      "text/plain": [
       "<Figure size 360x216 with 1 Axes>"
      ]
     },
     "metadata": {
      "needs_background": "light"
     },
     "output_type": "display_data"
    }
   ],
   "source": [
    "fig=plt.figure(figsize=(5,3))\n",
    "sns.countplot(df['stop'])\n",
    "print(df['stop'].value_counts())\n",
    "plt.show()"
   ]
  },
  {
   "cell_type": "code",
   "execution_count": 140,
   "id": "b2db8113",
   "metadata": {},
   "outputs": [],
   "source": [
    "a=df.describe(include=['O']).columns"
   ]
  },
  {
   "cell_type": "code",
   "execution_count": 141,
   "id": "ef5fb3d2",
   "metadata": {},
   "outputs": [
    {
     "data": {
      "text/html": [
       "<div>\n",
       "<style scoped>\n",
       "    .dataframe tbody tr th:only-of-type {\n",
       "        vertical-align: middle;\n",
       "    }\n",
       "\n",
       "    .dataframe tbody tr th {\n",
       "        vertical-align: top;\n",
       "    }\n",
       "\n",
       "    .dataframe thead th {\n",
       "        text-align: right;\n",
       "    }\n",
       "</style>\n",
       "<table border=\"1\" class=\"dataframe\">\n",
       "  <thead>\n",
       "    <tr style=\"text-align: right;\">\n",
       "      <th></th>\n",
       "      <th>Air India</th>\n",
       "      <th>AirAsia</th>\n",
       "      <th>GO FIRST</th>\n",
       "      <th>Indigo</th>\n",
       "      <th>SpiceJet</th>\n",
       "      <th>Vistara</th>\n",
       "    </tr>\n",
       "  </thead>\n",
       "  <tbody>\n",
       "    <tr>\n",
       "      <th>0</th>\n",
       "      <td>0</td>\n",
       "      <td>0</td>\n",
       "      <td>0</td>\n",
       "      <td>0</td>\n",
       "      <td>0</td>\n",
       "      <td>1</td>\n",
       "    </tr>\n",
       "    <tr>\n",
       "      <th>1</th>\n",
       "      <td>0</td>\n",
       "      <td>0</td>\n",
       "      <td>1</td>\n",
       "      <td>0</td>\n",
       "      <td>0</td>\n",
       "      <td>0</td>\n",
       "    </tr>\n",
       "    <tr>\n",
       "      <th>3</th>\n",
       "      <td>0</td>\n",
       "      <td>0</td>\n",
       "      <td>0</td>\n",
       "      <td>1</td>\n",
       "      <td>0</td>\n",
       "      <td>0</td>\n",
       "    </tr>\n",
       "    <tr>\n",
       "      <th>5</th>\n",
       "      <td>0</td>\n",
       "      <td>0</td>\n",
       "      <td>1</td>\n",
       "      <td>0</td>\n",
       "      <td>0</td>\n",
       "      <td>0</td>\n",
       "    </tr>\n",
       "    <tr>\n",
       "      <th>7</th>\n",
       "      <td>0</td>\n",
       "      <td>0</td>\n",
       "      <td>1</td>\n",
       "      <td>0</td>\n",
       "      <td>0</td>\n",
       "      <td>0</td>\n",
       "    </tr>\n",
       "  </tbody>\n",
       "</table>\n",
       "</div>"
      ],
      "text/plain": [
       "   Air India  AirAsia  GO FIRST  Indigo  SpiceJet  Vistara\n",
       "0          0        0         0       0         0        1\n",
       "1          0        0         1       0         0        0\n",
       "3          0        0         0       1         0        0\n",
       "5          0        0         1       0         0        0\n",
       "7          0        0         1       0         0        0"
      ]
     },
     "execution_count": 141,
     "metadata": {},
     "output_type": "execute_result"
    }
   ],
   "source": [
    "Airline = pd.get_dummies(df['Airline'])\n",
    "Airline.head()"
   ]
  },
  {
   "cell_type": "code",
   "execution_count": 142,
   "id": "64025e6f",
   "metadata": {},
   "outputs": [
    {
     "data": {
      "text/html": [
       "<div>\n",
       "<style scoped>\n",
       "    .dataframe tbody tr th:only-of-type {\n",
       "        vertical-align: middle;\n",
       "    }\n",
       "\n",
       "    .dataframe tbody tr th {\n",
       "        vertical-align: top;\n",
       "    }\n",
       "\n",
       "    .dataframe thead th {\n",
       "        text-align: right;\n",
       "    }\n",
       "</style>\n",
       "<table border=\"1\" class=\"dataframe\">\n",
       "  <thead>\n",
       "    <tr style=\"text-align: right;\">\n",
       "      <th></th>\n",
       "      <th>Bangalore</th>\n",
       "      <th>Hyderabad</th>\n",
       "      <th>Mumbai</th>\n",
       "    </tr>\n",
       "  </thead>\n",
       "  <tbody>\n",
       "    <tr>\n",
       "      <th>0</th>\n",
       "      <td>0</td>\n",
       "      <td>0</td>\n",
       "      <td>1</td>\n",
       "    </tr>\n",
       "    <tr>\n",
       "      <th>1</th>\n",
       "      <td>0</td>\n",
       "      <td>0</td>\n",
       "      <td>1</td>\n",
       "    </tr>\n",
       "    <tr>\n",
       "      <th>3</th>\n",
       "      <td>0</td>\n",
       "      <td>0</td>\n",
       "      <td>1</td>\n",
       "    </tr>\n",
       "    <tr>\n",
       "      <th>5</th>\n",
       "      <td>0</td>\n",
       "      <td>0</td>\n",
       "      <td>1</td>\n",
       "    </tr>\n",
       "    <tr>\n",
       "      <th>7</th>\n",
       "      <td>0</td>\n",
       "      <td>0</td>\n",
       "      <td>1</td>\n",
       "    </tr>\n",
       "  </tbody>\n",
       "</table>\n",
       "</div>"
      ],
      "text/plain": [
       "   Bangalore  Hyderabad  Mumbai\n",
       "0          0          0       1\n",
       "1          0          0       1\n",
       "3          0          0       1\n",
       "5          0          0       1\n",
       "7          0          0       1"
      ]
     },
     "execution_count": 142,
     "metadata": {},
     "output_type": "execute_result"
    }
   ],
   "source": [
    "Source = pd.get_dummies(df[\"Source\"])\n",
    "Source.head()"
   ]
  },
  {
   "cell_type": "code",
   "execution_count": 143,
   "id": "2543c70a",
   "metadata": {},
   "outputs": [
    {
     "data": {
      "text/html": [
       "<div>\n",
       "<style scoped>\n",
       "    .dataframe tbody tr th:only-of-type {\n",
       "        vertical-align: middle;\n",
       "    }\n",
       "\n",
       "    .dataframe tbody tr th {\n",
       "        vertical-align: top;\n",
       "    }\n",
       "\n",
       "    .dataframe thead th {\n",
       "        text-align: right;\n",
       "    }\n",
       "</style>\n",
       "<table border=\"1\" class=\"dataframe\">\n",
       "  <thead>\n",
       "    <tr style=\"text-align: right;\">\n",
       "      <th></th>\n",
       "      <th>Delhi</th>\n",
       "      <th>Kolkata</th>\n",
       "    </tr>\n",
       "  </thead>\n",
       "  <tbody>\n",
       "    <tr>\n",
       "      <th>0</th>\n",
       "      <td>0</td>\n",
       "      <td>1</td>\n",
       "    </tr>\n",
       "    <tr>\n",
       "      <th>1</th>\n",
       "      <td>0</td>\n",
       "      <td>1</td>\n",
       "    </tr>\n",
       "    <tr>\n",
       "      <th>3</th>\n",
       "      <td>0</td>\n",
       "      <td>1</td>\n",
       "    </tr>\n",
       "    <tr>\n",
       "      <th>5</th>\n",
       "      <td>0</td>\n",
       "      <td>1</td>\n",
       "    </tr>\n",
       "    <tr>\n",
       "      <th>7</th>\n",
       "      <td>0</td>\n",
       "      <td>1</td>\n",
       "    </tr>\n",
       "  </tbody>\n",
       "</table>\n",
       "</div>"
      ],
      "text/plain": [
       "   Delhi  Kolkata\n",
       "0      0        1\n",
       "1      0        1\n",
       "3      0        1\n",
       "5      0        1\n",
       "7      0        1"
      ]
     },
     "execution_count": 143,
     "metadata": {},
     "output_type": "execute_result"
    }
   ],
   "source": [
    "Destination = pd.get_dummies(df[\"Destination\"])\n",
    "Destination.head()"
   ]
  },
  {
   "cell_type": "code",
   "execution_count": 145,
   "id": "e9124a8a",
   "metadata": {},
   "outputs": [],
   "source": [
    "# Replacing Stops\n",
    "df.replace({\"non-stop\": 0, \"1-stop\": 1, \"2+-stop\": 2}, inplace = True)\n",
    "df['stop']=pd.to_numeric(df['stop'])"
   ]
  },
  {
   "cell_type": "code",
   "execution_count": 147,
   "id": "31883c67",
   "metadata": {},
   "outputs": [],
   "source": [
    " #Concatenate dataframe --> df + Airline + Source + Destination\n",
    "df = pd.concat([df, Airline, Source, Destination], axis = 1)\n",
    "\n",
    "df.drop([\"Airline\", \"Source\", \"Destination\"], axis = 1, inplace = True)"
   ]
  },
  {
   "cell_type": "code",
   "execution_count": 148,
   "id": "fbcd62ed",
   "metadata": {},
   "outputs": [
    {
     "data": {
      "text/html": [
       "<div>\n",
       "<style scoped>\n",
       "    .dataframe tbody tr th:only-of-type {\n",
       "        vertical-align: middle;\n",
       "    }\n",
       "\n",
       "    .dataframe tbody tr th {\n",
       "        vertical-align: top;\n",
       "    }\n",
       "\n",
       "    .dataframe thead th {\n",
       "        text-align: right;\n",
       "    }\n",
       "</style>\n",
       "<table border=\"1\" class=\"dataframe\">\n",
       "  <thead>\n",
       "    <tr style=\"text-align: right;\">\n",
       "      <th></th>\n",
       "      <th>day</th>\n",
       "      <th>Month</th>\n",
       "      <th>Route</th>\n",
       "      <th>Dep_hour</th>\n",
       "      <th>Dep_min</th>\n",
       "      <th>Dur_hour</th>\n",
       "      <th>Dur_min</th>\n",
       "      <th>Arr_hour</th>\n",
       "      <th>Arr_min</th>\n",
       "      <th>stop</th>\n",
       "      <th>...</th>\n",
       "      <th>AirAsia</th>\n",
       "      <th>GO FIRST</th>\n",
       "      <th>Indigo</th>\n",
       "      <th>SpiceJet</th>\n",
       "      <th>Vistara</th>\n",
       "      <th>Bangalore</th>\n",
       "      <th>Hyderabad</th>\n",
       "      <th>Mumbai</th>\n",
       "      <th>Delhi</th>\n",
       "      <th>Kolkata</th>\n",
       "    </tr>\n",
       "  </thead>\n",
       "  <tbody>\n",
       "    <tr>\n",
       "      <th>0</th>\n",
       "      <td>3</td>\n",
       "      <td>2</td>\n",
       "      <td>BOM---&gt;CCU</td>\n",
       "      <td>12</td>\n",
       "      <td>25</td>\n",
       "      <td>04</td>\n",
       "      <td>25</td>\n",
       "      <td>16</td>\n",
       "      <td>50</td>\n",
       "      <td>1</td>\n",
       "      <td>...</td>\n",
       "      <td>0</td>\n",
       "      <td>0</td>\n",
       "      <td>0</td>\n",
       "      <td>0</td>\n",
       "      <td>1</td>\n",
       "      <td>0</td>\n",
       "      <td>0</td>\n",
       "      <td>1</td>\n",
       "      <td>0</td>\n",
       "      <td>1</td>\n",
       "    </tr>\n",
       "    <tr>\n",
       "      <th>1</th>\n",
       "      <td>3</td>\n",
       "      <td>2</td>\n",
       "      <td>BOM---&gt;CCU</td>\n",
       "      <td>5</td>\n",
       "      <td>0</td>\n",
       "      <td>02</td>\n",
       "      <td>30</td>\n",
       "      <td>7</td>\n",
       "      <td>30</td>\n",
       "      <td>0</td>\n",
       "      <td>...</td>\n",
       "      <td>0</td>\n",
       "      <td>1</td>\n",
       "      <td>0</td>\n",
       "      <td>0</td>\n",
       "      <td>0</td>\n",
       "      <td>0</td>\n",
       "      <td>0</td>\n",
       "      <td>1</td>\n",
       "      <td>0</td>\n",
       "      <td>1</td>\n",
       "    </tr>\n",
       "    <tr>\n",
       "      <th>3</th>\n",
       "      <td>3</td>\n",
       "      <td>2</td>\n",
       "      <td>BOM---&gt;CCU</td>\n",
       "      <td>21</td>\n",
       "      <td>40</td>\n",
       "      <td>02</td>\n",
       "      <td>30</td>\n",
       "      <td>0</td>\n",
       "      <td>10</td>\n",
       "      <td>0</td>\n",
       "      <td>...</td>\n",
       "      <td>0</td>\n",
       "      <td>0</td>\n",
       "      <td>1</td>\n",
       "      <td>0</td>\n",
       "      <td>0</td>\n",
       "      <td>0</td>\n",
       "      <td>0</td>\n",
       "      <td>1</td>\n",
       "      <td>0</td>\n",
       "      <td>1</td>\n",
       "    </tr>\n",
       "    <tr>\n",
       "      <th>5</th>\n",
       "      <td>3</td>\n",
       "      <td>2</td>\n",
       "      <td>BOM---&gt;HYD</td>\n",
       "      <td>5</td>\n",
       "      <td>0</td>\n",
       "      <td>04</td>\n",
       "      <td>5</td>\n",
       "      <td>9</td>\n",
       "      <td>5</td>\n",
       "      <td>1</td>\n",
       "      <td>...</td>\n",
       "      <td>0</td>\n",
       "      <td>1</td>\n",
       "      <td>0</td>\n",
       "      <td>0</td>\n",
       "      <td>0</td>\n",
       "      <td>0</td>\n",
       "      <td>0</td>\n",
       "      <td>1</td>\n",
       "      <td>0</td>\n",
       "      <td>1</td>\n",
       "    </tr>\n",
       "    <tr>\n",
       "      <th>7</th>\n",
       "      <td>3</td>\n",
       "      <td>2</td>\n",
       "      <td>BOM---&gt;HYD</td>\n",
       "      <td>5</td>\n",
       "      <td>0</td>\n",
       "      <td>07</td>\n",
       "      <td>30</td>\n",
       "      <td>12</td>\n",
       "      <td>30</td>\n",
       "      <td>1</td>\n",
       "      <td>...</td>\n",
       "      <td>0</td>\n",
       "      <td>1</td>\n",
       "      <td>0</td>\n",
       "      <td>0</td>\n",
       "      <td>0</td>\n",
       "      <td>0</td>\n",
       "      <td>0</td>\n",
       "      <td>1</td>\n",
       "      <td>0</td>\n",
       "      <td>1</td>\n",
       "    </tr>\n",
       "  </tbody>\n",
       "</table>\n",
       "<p>5 rows × 22 columns</p>\n",
       "</div>"
      ],
      "text/plain": [
       "   day  Month       Route  Dep_hour  Dep_min Dur_hour  Dur_min  Arr_hour  \\\n",
       "0    3      2  BOM--->CCU        12       25       04       25        16   \n",
       "1    3      2  BOM--->CCU         5        0       02       30         7   \n",
       "3    3      2  BOM--->CCU        21       40       02       30         0   \n",
       "5    3      2  BOM--->HYD         5        0       04        5         9   \n",
       "7    3      2  BOM--->HYD         5        0       07       30        12   \n",
       "\n",
       "   Arr_min  stop  ...  AirAsia  GO FIRST  Indigo  SpiceJet  Vistara  \\\n",
       "0       50     1  ...        0         0       0         0        1   \n",
       "1       30     0  ...        0         1       0         0        0   \n",
       "3       10     0  ...        0         0       1         0        0   \n",
       "5        5     1  ...        0         1       0         0        0   \n",
       "7       30     1  ...        0         1       0         0        0   \n",
       "\n",
       "   Bangalore  Hyderabad  Mumbai  Delhi  Kolkata  \n",
       "0          0          0       1      0        1  \n",
       "1          0          0       1      0        1  \n",
       "3          0          0       1      0        1  \n",
       "5          0          0       1      0        1  \n",
       "7          0          0       1      0        1  \n",
       "\n",
       "[5 rows x 22 columns]"
      ]
     },
     "execution_count": 148,
     "metadata": {},
     "output_type": "execute_result"
    }
   ],
   "source": [
    "df.head()"
   ]
  },
  {
   "cell_type": "code",
   "execution_count": null,
   "id": "1ab2a926",
   "metadata": {},
   "outputs": [],
   "source": []
  },
  {
   "cell_type": "code",
   "execution_count": 98,
   "id": "374ed148",
   "metadata": {},
   "outputs": [
    {
     "data": {
      "text/plain": [
       "<AxesSubplot:>"
      ]
     },
     "execution_count": 98,
     "metadata": {},
     "output_type": "execute_result"
    },
    {
     "data": {
      "image/png": "[encoded data removed]",
      "text/plain": [
       "<Figure size 2160x2160 with 2 Axes>"
      ]
     },
     "metadata": {
      "needs_background": "light"
     },
     "output_type": "display_data"
    }
   ],
   "source": [
    "\n",
    "df_correlation=df.corr()\n",
    "plt.figure(figsize=(30,30))\n",
    "sns.heatmap(df_correlation,cmap='Blues',annot=True)"
   ]
  },
  {
   "cell_type": "code",
   "execution_count": 99,
   "id": "540f0e4c",
   "metadata": {},
   "outputs": [
    {
     "data": {
      "text/plain": [
       "Airline           AxesSubplot(0.125,0.816017;0.168478x0.0639831)\n",
       "Source         AxesSubplot(0.327174,0.816017;0.168478x0.0639831)\n",
       "Destination    AxesSubplot(0.529348,0.816017;0.168478x0.0639831)\n",
       "day            AxesSubplot(0.731522,0.816017;0.168478x0.0639831)\n",
       "Month             AxesSubplot(0.125,0.739237;0.168478x0.0639831)\n",
       "Route          AxesSubplot(0.327174,0.739237;0.168478x0.0639831)\n",
       "Dep_hour       AxesSubplot(0.529348,0.739237;0.168478x0.0639831)\n",
       "Dep_min        AxesSubplot(0.731522,0.739237;0.168478x0.0639831)\n",
       "Dur_hour          AxesSubplot(0.125,0.662458;0.168478x0.0639831)\n",
       "Dur_min        AxesSubplot(0.327174,0.662458;0.168478x0.0639831)\n",
       "Arr_hour       AxesSubplot(0.529348,0.662458;0.168478x0.0639831)\n",
       "Arr_min        AxesSubplot(0.731522,0.662458;0.168478x0.0639831)\n",
       "stop              AxesSubplot(0.125,0.585678;0.168478x0.0639831)\n",
       "price          AxesSubplot(0.327174,0.585678;0.168478x0.0639831)\n",
       "dtype: object"
      ]
     },
     "execution_count": 99,
     "metadata": {},
     "output_type": "execute_result"
    },
    {
     "data": {
      "image/png": "[encoded data removed]",
      "text/plain": [
       "<Figure size 1440x1440 with 40 Axes>"
      ]
     },
     "metadata": {
      "needs_background": "light"
     },
     "output_type": "display_data"
    }
   ],
   "source": [
    "df.plot(kind='box',subplots=True,layout=(10,4),figsize=(20,20))"
   ]
  },
  {
   "cell_type": "code",
   "execution_count": 149,
   "id": "f929dab6",
   "metadata": {},
   "outputs": [
    {
     "ename": "TypeError",
     "evalue": "unsupported operand type(s) for /: 'str' and 'int'",
     "output_type": "error",
     "traceback": [
      "\u001b[1;31m---------------------------------------------------------------------------\u001b[0m",
      "\u001b[1;31mTypeError\u001b[0m                                 Traceback (most recent call last)",
      "\u001b[1;32m<ipython-input-149-97bff972dfde>\u001b[0m in \u001b[0;36m<module>\u001b[1;34m\u001b[0m\n\u001b[0;32m      1\u001b[0m \u001b[1;32mfrom\u001b[0m \u001b[0mscipy\u001b[0m\u001b[1;33m.\u001b[0m\u001b[0mstats\u001b[0m \u001b[1;32mimport\u001b[0m \u001b[0mzscore\u001b[0m\u001b[1;33m\u001b[0m\u001b[1;33m\u001b[0m\u001b[0m\n\u001b[0;32m      2\u001b[0m \u001b[1;32mimport\u001b[0m \u001b[0mnumpy\u001b[0m \u001b[1;32mas\u001b[0m \u001b[0mnp\u001b[0m\u001b[1;33m\u001b[0m\u001b[1;33m\u001b[0m\u001b[0m\n\u001b[1;32m----> 3\u001b[1;33m \u001b[0mz\u001b[0m\u001b[1;33m=\u001b[0m\u001b[0mnp\u001b[0m\u001b[1;33m.\u001b[0m\u001b[0mabs\u001b[0m\u001b[1;33m(\u001b[0m\u001b[0mzscore\u001b[0m\u001b[1;33m(\u001b[0m\u001b[0mdf\u001b[0m\u001b[1;33m)\u001b[0m\u001b[1;33m)\u001b[0m\u001b[1;33m\u001b[0m\u001b[1;33m\u001b[0m\u001b[0m\n\u001b[0m\u001b[0;32m      4\u001b[0m \u001b[0mthreshold\u001b[0m\u001b[1;33m=\u001b[0m\u001b[1;36m3\u001b[0m\u001b[1;33m\u001b[0m\u001b[1;33m\u001b[0m\u001b[0m\n\u001b[0;32m      5\u001b[0m \u001b[0mnp\u001b[0m\u001b[1;33m.\u001b[0m\u001b[0mwhere\u001b[0m\u001b[1;33m(\u001b[0m\u001b[0mz\u001b[0m\u001b[1;33m>\u001b[0m\u001b[1;36m3\u001b[0m\u001b[1;33m)\u001b[0m\u001b[1;33m\u001b[0m\u001b[1;33m\u001b[0m\u001b[0m\n",
      "\u001b[1;32m~\\anaconda3\\lib\\site-packages\\scipy\\stats\\stats.py\u001b[0m in \u001b[0;36mzscore\u001b[1;34m(a, axis, ddof, nan_policy)\u001b[0m\n\u001b[0;32m   2557\u001b[0m             \u001b[0misconst\u001b[0m \u001b[1;33m=\u001b[0m \u001b[0mnp\u001b[0m\u001b[1;33m.\u001b[0m\u001b[0mapply_along_axis\u001b[0m\u001b[1;33m(\u001b[0m\u001b[0m_isconst\u001b[0m\u001b[1;33m,\u001b[0m \u001b[0maxis\u001b[0m\u001b[1;33m,\u001b[0m \u001b[0ma\u001b[0m\u001b[1;33m)\u001b[0m\u001b[1;33m\u001b[0m\u001b[1;33m\u001b[0m\u001b[0m\n\u001b[0;32m   2558\u001b[0m     \u001b[1;32melse\u001b[0m\u001b[1;33m:\u001b[0m\u001b[1;33m\u001b[0m\u001b[1;33m\u001b[0m\u001b[0m\n\u001b[1;32m-> 2559\u001b[1;33m         \u001b[0mmn\u001b[0m \u001b[1;33m=\u001b[0m \u001b[0ma\u001b[0m\u001b[1;33m.\u001b[0m\u001b[0mmean\u001b[0m\u001b[1;33m(\u001b[0m\u001b[0maxis\u001b[0m\u001b[1;33m=\u001b[0m\u001b[0maxis\u001b[0m\u001b[1;33m,\u001b[0m \u001b[0mkeepdims\u001b[0m\u001b[1;33m=\u001b[0m\u001b[1;32mTrue\u001b[0m\u001b[1;33m)\u001b[0m\u001b[1;33m\u001b[0m\u001b[1;33m\u001b[0m\u001b[0m\n\u001b[0m\u001b[0;32m   2560\u001b[0m         \u001b[0mstd\u001b[0m \u001b[1;33m=\u001b[0m \u001b[0ma\u001b[0m\u001b[1;33m.\u001b[0m\u001b[0mstd\u001b[0m\u001b[1;33m(\u001b[0m\u001b[0maxis\u001b[0m\u001b[1;33m=\u001b[0m\u001b[0maxis\u001b[0m\u001b[1;33m,\u001b[0m \u001b[0mddof\u001b[0m\u001b[1;33m=\u001b[0m\u001b[0mddof\u001b[0m\u001b[1;33m,\u001b[0m \u001b[0mkeepdims\u001b[0m\u001b[1;33m=\u001b[0m\u001b[1;32mTrue\u001b[0m\u001b[1;33m)\u001b[0m\u001b[1;33m\u001b[0m\u001b[1;33m\u001b[0m\u001b[0m\n\u001b[0;32m   2561\u001b[0m         \u001b[1;32mif\u001b[0m \u001b[0maxis\u001b[0m \u001b[1;32mis\u001b[0m \u001b[1;32mNone\u001b[0m\u001b[1;33m:\u001b[0m\u001b[1;33m\u001b[0m\u001b[1;33m\u001b[0m\u001b[0m\n",
      "\u001b[1;32m~\\anaconda3\\lib\\site-packages\\numpy\\core\\_methods.py\u001b[0m in \u001b[0;36m_mean\u001b[1;34m(a, axis, dtype, out, keepdims, where)\u001b[0m\n\u001b[0;32m    178\u001b[0m     \u001b[0mret\u001b[0m \u001b[1;33m=\u001b[0m \u001b[0mumr_sum\u001b[0m\u001b[1;33m(\u001b[0m\u001b[0marr\u001b[0m\u001b[1;33m,\u001b[0m \u001b[0maxis\u001b[0m\u001b[1;33m,\u001b[0m \u001b[0mdtype\u001b[0m\u001b[1;33m,\u001b[0m \u001b[0mout\u001b[0m\u001b[1;33m,\u001b[0m \u001b[0mkeepdims\u001b[0m\u001b[1;33m,\u001b[0m \u001b[0mwhere\u001b[0m\u001b[1;33m=\u001b[0m\u001b[0mwhere\u001b[0m\u001b[1;33m)\u001b[0m\u001b[1;33m\u001b[0m\u001b[1;33m\u001b[0m\u001b[0m\n\u001b[0;32m    179\u001b[0m     \u001b[1;32mif\u001b[0m \u001b[0misinstance\u001b[0m\u001b[1;33m(\u001b[0m\u001b[0mret\u001b[0m\u001b[1;33m,\u001b[0m \u001b[0mmu\u001b[0m\u001b[1;33m.\u001b[0m\u001b[0mndarray\u001b[0m\u001b[1;33m)\u001b[0m\u001b[1;33m:\u001b[0m\u001b[1;33m\u001b[0m\u001b[1;33m\u001b[0m\u001b[0m\n\u001b[1;32m--> 180\u001b[1;33m         ret = um.true_divide(\n\u001b[0m\u001b[0;32m    181\u001b[0m                 ret, rcount, out=ret, casting='unsafe', subok=False)\n\u001b[0;32m    182\u001b[0m         \u001b[1;32mif\u001b[0m \u001b[0mis_float16_result\u001b[0m \u001b[1;32mand\u001b[0m \u001b[0mout\u001b[0m \u001b[1;32mis\u001b[0m \u001b[1;32mNone\u001b[0m\u001b[1;33m:\u001b[0m\u001b[1;33m\u001b[0m\u001b[1;33m\u001b[0m\u001b[0m\n",
      "\u001b[1;31mTypeError\u001b[0m: unsupported operand type(s) for /: 'str' and 'int'"
     ]
    }
   ],
   "source": [
    "from scipy.stats import zscore\n",
    "import numpy as np\n",
    "z=np.abs(zscore(df))\n",
    "threshold=3\n",
    "np.where(z>3)"
   ]
  },
  {
   "cell_type": "code",
   "execution_count": 101,
   "id": "d2343a28",
   "metadata": {},
   "outputs": [
    {
     "data": {
      "text/plain": [
       "(16859, 14)"
      ]
     },
     "execution_count": 101,
     "metadata": {},
     "output_type": "execute_result"
    }
   ],
   "source": [
    "df_new=df[(z<3).all(axis=1)]\n",
    "df_new.head()\n",
    "df_new.shape"
   ]
  },
  {
   "cell_type": "code",
   "execution_count": 102,
   "id": "42355c05",
   "metadata": {},
   "outputs": [
    {
     "data": {
      "text/plain": [
       "(17141, 14)"
      ]
     },
     "execution_count": 102,
     "metadata": {},
     "output_type": "execute_result"
    }
   ],
   "source": [
    "df.shape"
   ]
  },
  {
   "cell_type": "code",
   "execution_count": 103,
   "id": "98e57ce5",
   "metadata": {},
   "outputs": [
    {
     "data": {
      "text/plain": [
       "1.6726970757458923"
      ]
     },
     "execution_count": 103,
     "metadata": {},
     "output_type": "execute_result"
    }
   ],
   "source": [
    "Data_loss=((17141-16859)/16859)*100\n",
    "Data_loss"
   ]
  },
  {
   "cell_type": "code",
   "execution_count": 104,
   "id": "40b4fcf8",
   "metadata": {},
   "outputs": [
    {
     "data": {
      "text/plain": [
       "Airline       -0.103980\n",
       "Source        -0.474967\n",
       "Destination    0.458515\n",
       "day           -0.192839\n",
       "Month          2.623538\n",
       "Route          0.029673\n",
       "Dep_hour       0.211256\n",
       "Dep_min        0.016842\n",
       "Dur_hour       0.849859\n",
       "Dur_min        0.031048\n",
       "Arr_hour      -0.647553\n",
       "Arr_min       -0.112843\n",
       "stop           1.695896\n",
       "price          1.243170\n",
       "dtype: float64"
      ]
     },
     "execution_count": 104,
     "metadata": {},
     "output_type": "execute_result"
    }
   ],
   "source": [
    "df_new.skew()"
   ]
  },
  {
   "cell_type": "code",
   "execution_count": 154,
   "id": "babbe5dc",
   "metadata": {},
   "outputs": [],
   "source": [
    "df.drop('Route',axis=1,inplace=True)"
   ]
  },
  {
   "cell_type": "code",
   "execution_count": 155,
   "id": "7c43383c",
   "metadata": {},
   "outputs": [
    {
     "name": "stdout",
     "output_type": "stream",
     "text": [
      "(17141, 20)\n",
      "(17141,)\n"
     ]
    }
   ],
   "source": [
    "x=df.drop('price',axis=1)\n",
    "y=df['price']\n",
    "print(x.shape)\n",
    "print(y.shape)"
   ]
  },
  {
   "cell_type": "code",
   "execution_count": 163,
   "id": "0b74b237",
   "metadata": {},
   "outputs": [],
   "source": [
    "from sklearn.model_selection import train_test_split\n",
    "from sklearn.tree import DecisionTreeRegressor\n",
    "from sklearn.ensemble import RandomForestRegressor\n",
    "from sklearn.ensemble import AdaBoostRegressor\n",
    "from sklearn.ensemble import GradientBoostingRegressor\n",
    "from sklearn.metrics import mean_squared_error,mean_absolute_error,r2_score"
   ]
  },
  {
   "cell_type": "code",
   "execution_count": 157,
   "id": "9f135e33",
   "metadata": {},
   "outputs": [],
   "source": [
    "def chosen_model(model):\n",
    "    maxAccu=0\n",
    "    maxRS=0\n",
    "    for i in range(1,200):\n",
    "        x_train,x_test,y_train,y_test=train_test_split(x,y,test_size=0.33,random_state=i)\n",
    "        lm=model()\n",
    "        lm.fit(x_train,y_train)\n",
    "        pred=lm.predict(x_test)\n",
    "        accu=r2_score(y_test,pred)\n",
    "        if accu>maxAccu:\n",
    "            maxAccu=accu\n",
    "            maxRS=i\n",
    "    print(\"best accuracy is\",maxAccu,\"on random state\",maxRS)"
   ]
  },
  {
   "cell_type": "code",
   "execution_count": 164,
   "id": "304080e7",
   "metadata": {},
   "outputs": [
    {
     "name": "stdout",
     "output_type": "stream",
     "text": [
      "best accuracy is 0.3959537301540189 on random state 163\n"
     ]
    }
   ],
   "source": [
    "chosen_model(RandomForestRegressor)"
   ]
  },
  {
   "cell_type": "code",
   "execution_count": 159,
   "id": "272ad264",
   "metadata": {},
   "outputs": [
    {
     "name": "stdout",
     "output_type": "stream",
     "text": [
      "best accuracy is 0.010869260636905964 on random state 124\n"
     ]
    }
   ],
   "source": [
    "chosen_model(DecisionTreeRegressor)"
   ]
  },
  {
   "cell_type": "code",
   "execution_count": 160,
   "id": "8fa19e80",
   "metadata": {},
   "outputs": [
    {
     "name": "stdout",
     "output_type": "stream",
     "text": [
      "best accuracy is 0.49634936513838646 on random state 114\n"
     ]
    }
   ],
   "source": [
    "chosen_model(AdaBoostRegressor)"
   ]
  },
  {
   "cell_type": "code",
   "execution_count": 161,
   "id": "9cc5c662",
   "metadata": {},
   "outputs": [
    {
     "name": "stdout",
     "output_type": "stream",
     "text": [
      "best accuracy is 0.5367323093557685 on random state 181\n"
     ]
    }
   ],
   "source": [
    "chosen_model(GradientBoostingRegressor)"
   ]
  },
  {
   "cell_type": "code",
   "execution_count": 165,
   "id": "808481d8",
   "metadata": {},
   "outputs": [
    {
     "name": "stdout",
     "output_type": "stream",
     "text": [
      "[ 0.46035985  0.39482096  0.33679244  0.44592295 -0.01921104  0.58337251\n",
      " -0.00667658]\n",
      "0.31362586984402924\n",
      "0.21787939915115598\n"
     ]
    }
   ],
   "source": [
    "x_train,x_test,y_train,y_test=train_test_split(x,y,test_size=0.33,random_state=181)\n",
    "from sklearn.model_selection import cross_val_score\n",
    "score=cross_val_score(GradientBoostingRegressor(),x,y,cv=7)\n",
    "print(score)\n",
    "print(score.mean())\n",
    "print(score.std())"
   ]
  },
  {
   "cell_type": "code",
   "execution_count": 167,
   "id": "c874c17c",
   "metadata": {},
   "outputs": [
    {
     "name": "stdout",
     "output_type": "stream",
     "text": [
      "[-0.45056899  0.32262345  0.13481898  0.30191473  0.26307353  0.43195817\n",
      " -0.1127513 ]\n",
      "0.12729551204967365\n",
      "0.28573372647274486\n"
     ]
    }
   ],
   "source": [
    "x_train,x_test,y_train,y_test=train_test_split(x,y,test_size=0.33,random_state=163)\n",
    "from sklearn.model_selection import cross_val_score\n",
    "score=cross_val_score(RandomForestRegressor(),x,y,cv=7)\n",
    "print(score)\n",
    "print(score.mean())\n",
    "print(score.std())"
   ]
  },
  {
   "cell_type": "code",
   "execution_count": 169,
   "id": "ede7e19a",
   "metadata": {},
   "outputs": [
    {
     "name": "stdout",
     "output_type": "stream",
     "text": [
      "[ 0.42227384  0.2172107   0.37354838  0.40636832  0.37884058  0.46081689\n",
      " -0.05419744]\n",
      "0.3149801796975954\n",
      "0.16668680583099127\n"
     ]
    }
   ],
   "source": [
    "x_train,x_test,y_train,y_test=train_test_split(x,y,test_size=0.33,random_state=114)\n",
    "from sklearn.model_selection import cross_val_score\n",
    "score=cross_val_score(AdaBoostRegressor(),x,y,cv=7)\n",
    "print(score)\n",
    "print(score.mean())\n",
    "print(score.std())"
   ]
  },
  {
   "cell_type": "code",
   "execution_count": 170,
   "id": "7ef15a3b",
   "metadata": {},
   "outputs": [
    {
     "name": "stdout",
     "output_type": "stream",
     "text": [
      "[-2.73788282  0.05610369 -0.10234989 -0.06936708 -0.02469894 -0.02398016\n",
      " -1.45453366]\n",
      "-0.6223869792844449\n",
      "0.9942500148488179\n"
     ]
    }
   ],
   "source": [
    "x_train,x_test,y_train,y_test=train_test_split(x,y,test_size=0.33,random_state=124)\n",
    "from sklearn.model_selection import cross_val_score\n",
    "score=cross_val_score(DecisionTreeRegressor(),x,y,cv=7)\n",
    "print(score)\n",
    "print(score.mean())\n",
    "print(score.std())"
   ]
  },
  {
   "cell_type": "code",
   "execution_count": 171,
   "id": "2e110439",
   "metadata": {},
   "outputs": [],
   "source": [
    "from sklearn.model_selection import GridSearchCV\n",
    "import numpy as np"
   ]
  },
  {
   "cell_type": "code",
   "execution_count": 176,
   "id": "42a51d01",
   "metadata": {},
   "outputs": [],
   "source": [
    "parameter={'n_estimators':[100,200,500,1000],\n",
    "          'min_samples_split':[5,6,7,8,9],\n",
    "          'max_depth':[5,6,7,8],\n",
    "          'min_samples_leaf':[2,4,7,9]}"
   ]
  },
  {
   "cell_type": "code",
   "execution_count": 177,
   "id": "275e16e0",
   "metadata": {},
   "outputs": [],
   "source": [
    "GCV=GridSearchCV(GradientBoostingRegressor(),parameter,cv=5)"
   ]
  },
  {
   "cell_type": "code",
   "execution_count": 178,
   "id": "85a801cb",
   "metadata": {},
   "outputs": [
    {
     "data": {
      "text/plain": [
       "GridSearchCV(cv=5, estimator=GradientBoostingRegressor(),\n",
       "             param_grid={'max_depth': [5, 6, 7, 8],\n",
       "                         'min_samples_leaf': [2, 4, 7, 9],\n",
       "                         'min_samples_split': [5, 6, 7, 8, 9],\n",
       "                         'n_estimators': [100, 200, 500, 1000]})"
      ]
     },
     "execution_count": 178,
     "metadata": {},
     "output_type": "execute_result"
    }
   ],
   "source": [
    "GCV.fit(x_train,y_train)"
   ]
  },
  {
   "cell_type": "code",
   "execution_count": 179,
   "id": "5dac5dc9",
   "metadata": {},
   "outputs": [
    {
     "data": {
      "text/plain": [
       "{'max_depth': 5,\n",
       " 'min_samples_leaf': 7,\n",
       " 'min_samples_split': 6,\n",
       " 'n_estimators': 100}"
      ]
     },
     "execution_count": 179,
     "metadata": {},
     "output_type": "execute_result"
    }
   ],
   "source": [
    "GCV.best_params_"
   ]
  },
  {
   "cell_type": "code",
   "execution_count": 180,
   "id": "088da376",
   "metadata": {},
   "outputs": [
    {
     "name": "stdout",
     "output_type": "stream",
     "text": [
      "51.80447068362191\n"
     ]
    }
   ],
   "source": [
    "flightprice_mod=GradientBoostingRegressor(n_estimators=100,max_depth=5,min_samples_leaf=7,min_samples_split=6)\n",
    "flightprice_mod.fit(x_train,y_train)\n",
    "pred=flightprice_mod.predict(x_test)\n",
    "acc=r2_score(y_test,pred)\n",
    "print(acc*100)"
   ]
  },
  {
   "cell_type": "code",
   "execution_count": 181,
   "id": "136a757b",
   "metadata": {},
   "outputs": [
    {
     "data": {
      "text/plain": [
       "['ease_my_trip_flightpricemodel.pkl']"
      ]
     },
     "execution_count": 181,
     "metadata": {},
     "output_type": "execute_result"
    }
   ],
   "source": [
    "import joblib\n",
    "joblib.dump(flightprice_mod,\"ease_my_trip_flightpricemodel.pkl\")"
   ]
  },
  {
   "cell_type": "code",
   "execution_count": null,
   "id": "58bb7221",
   "metadata": {},
   "outputs": [],
   "source": []
  }
 ],
 "metadata": {
  "kernelspec": {
   "display_name": "Python 3",
   "language": "python",
   "name": "python3"
  },
  "language_info": {
   "codemirror_mode": {
    "name": "ipython",
    "version": 3
   },
   "file_extension": ".py",
   "mimetype": "text/x-python",
   "name": "python",
   "nbconvert_exporter": "python",
   "pygments_lexer": "ipython3",
   "version": "3.8.8"
  }
 },
 "nbformat": 4,
 "nbformat_minor": 5
}
